{
 "cells": [
  {
   "cell_type": "markdown",
   "metadata": {},
   "source": [
    "# Setting up bash kernel\n",
    "Making sure we set up our bash kernel"
   ]
  },
  {
   "cell_type": "code",
   "execution_count": null,
   "metadata": {
    "collapsed": false
   },
   "outputs": [
    {
     "name": "stdout",
     "output_type": "stream",
     "text": [
      "Traceback (most recent call last):\n",
      "  File \"/Users/alejandrosaucedo/Programming/devnull/helloworlddocker/venv/bin/jupyter-qtconsole\", line 7, in <module>\n",
      "    from qtconsole.qtconsoleapp import main\n",
      "  File \"/Users/alejandrosaucedo/Programming/devnull/helloworlddocker/venv/lib/python3.6/site-packages/qtconsole/qtconsoleapp.py\", line 60, in <module>\n",
      "    from qtconsole.qt import QtCore, QtGui\n",
      "  File \"/Users/alejandrosaucedo/Programming/devnull/helloworlddocker/venv/lib/python3.6/site-packages/qtconsole/qt.py\", line 23, in <module>\n",
      "    QtCore, QtGui, QtSvg, QT_API = load_qt(api_opts)\n",
      "  File \"/Users/alejandrosaucedo/Programming/devnull/helloworlddocker/venv/lib/python3.6/site-packages/qtconsole/qt_loaders.py\", line 309, in load_qt\n",
      "    api_options))\n",
      "ImportError: \n",
      "    Could not load requested Qt binding. Please ensure that\n",
      "    PyQt4 >= 4.7, PyQt5 or PySide >= 1.0.3 is available,\n",
      "    and only one is imported per session.\n",
      "\n",
      "    Currently-imported Qt library:   None\n",
      "    PyQt4 installed:                 False\n",
      "    PyQt5 installed:                 False\n",
      "    PySide >= 1.0.3 installed:       False\n",
      "    Tried to load:                   ['pyqt5', 'pyside', 'pyqt']\n",
      "    \n",
      "Jupyter console 5.1.0\n",
      "\n",
      "GNU bash, version 3.2.57(1)-release (x86_64-apple-darwin15)\n",
      "Copyright (C) 2007 Free Software Foundation, Inc.\n",
      "\n",
      "\n",
      "\n"
     ]
    }
   ],
   "source": [
    "jupyter qtconsole --kernel bash\n",
    "jupyter console --kernel bash"
   ]
  },
  {
   "cell_type": "code",
   "execution_count": null,
   "metadata": {
    "collapsed": true
   },
   "outputs": [],
   "source": []
  }
 ],
 "metadata": {
  "kernelspec": {
   "display_name": "Bash",
   "language": "bash",
   "name": "bash"
  },
  "language_info": {
   "codemirror_mode": "shell",
   "file_extension": ".sh",
   "mimetype": "text/x-sh",
   "name": "bash"
  }
 },
 "nbformat": 4,
 "nbformat_minor": 2
}

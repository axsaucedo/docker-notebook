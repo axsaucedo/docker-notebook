{
 "cells": [
  {
   "cell_type": "markdown",
   "metadata": {},
   "source": [
    "# Part Four\n",
    "## Building a web farm for development and testing"
   ]
  },
  {
   "cell_type": "markdown",
   "metadata": {},
   "source": [
    "### Committing previous changes"
   ]
  },
  {
   "cell_type": "code",
   "execution_count": 1,
   "metadata": {
    "collapsed": false
   },
   "outputs": [
    {
     "name": "stdout",
     "output_type": "stream",
     "text": [
      "REPOSITORY          TAG                 IMAGE ID            CREATED             SIZE\n",
      "centos6             serverv1            be824f20375e        21 minutes ago      373 MB\n",
      "centos6             baseweb             34079efab3e4        2 hours ago         373 MB\n",
      "centos              centos6             8315978ceaaa        4 months ago        195 MB\n"
     ]
    }
   ],
   "source": [
    "docker images"
   ]
  },
  {
   "cell_type": "code",
   "execution_count": 2,
   "metadata": {
    "collapsed": false
   },
   "outputs": [
    {
     "name": "stdout",
     "output_type": "stream",
     "text": [
      "CONTAINER ID        IMAGE               COMMAND             CREATED             STATUS                           PORTS                  NAMES\n",
      "af3ac3489de7        centos6:serverv1    \"/bin/bash\"         14 minutes ago      Up 14 minutes                    0.0.0.0:8081->80/tcp   externalweb\n",
      "62043409c68d        centos6:serverv1    \"/bin/bash\"         19 minutes ago      Up 18 minutes                    80/tcp                 contserv1\n",
      "f9fd0dbebbeb        centos6:baseweb     \"/bin/bash\"         About an hour ago   Exited (255) 32 minutes ago      0.0.0.0:8080->80/tcp   webtest\n",
      "695d1ddda23e        centos6:baseweb     \"/bin/bash\"         2 hours ago         Exited (137) About an hour ago                          fervent_wright\n",
      "548f70d44cb2        centos:centos6      \"/bin/bash\"         3 hours ago         Exited (137) 2 hours ago                                reverent_pasteur\n"
     ]
    }
   ],
   "source": [
    "docker ps -a"
   ]
  },
  {
   "cell_type": "markdown",
   "metadata": {},
   "source": [
    "**We can see our container externalweb, and we want to commit it to save it**"
   ]
  },
  {
   "cell_type": "code",
   "execution_count": 3,
   "metadata": {
    "collapsed": false
   },
   "outputs": [
    {
     "name": "stdout",
     "output_type": "stream",
     "text": [
      "sha256:758e7bcba59c48e0b2cbb4563881cef79755bca73ab41d723967ff177c922e2d\n"
     ]
    }
   ],
   "source": [
    "docker commit externalweb centos6:finalwebv1"
   ]
  },
  {
   "cell_type": "markdown",
   "metadata": {},
   "source": [
    "**This is the base container which we use to base all the systems from**"
   ]
  },
  {
   "cell_type": "code",
   "execution_count": 4,
   "metadata": {
    "collapsed": false
   },
   "outputs": [
    {
     "name": "stdout",
     "output_type": "stream",
     "text": [
      "REPOSITORY          TAG                 IMAGE ID            CREATED             SIZE\n",
      "centos6             finalwebv1          758e7bcba59c        22 seconds ago      373 MB\n",
      "centos6             serverv1            be824f20375e        22 minutes ago      373 MB\n",
      "centos6             baseweb             34079efab3e4        2 hours ago         373 MB\n",
      "centos              centos6             8315978ceaaa        4 months ago        195 MB\n"
     ]
    }
   ],
   "source": [
    "docker images"
   ]
  },
  {
   "cell_type": "markdown",
   "metadata": {},
   "source": [
    "**We can see our image is there - so we're good :)**"
   ]
  },
  {
   "cell_type": "markdown",
   "metadata": {},
   "source": [
    "## Managing Web Directory\n",
    "We would normally not have the git repo with everything there.\n",
    "We'll move our dockerwww to dockergit, which will be our github repository, so that it's separate from our build repository."
   ]
  },
  {
   "cell_type": "code",
   "execution_count": 5,
   "metadata": {
    "collapsed": false
   },
   "outputs": [
    {
     "name": "stdout",
     "output_type": "stream",
     "text": [
      "Docker Notebook - Part 1 - Creating and removing containers + images.ipynb\n",
      "Docker Notebook - Part 2 - Setting up the website.ipynb\n",
      "Docker Notebook - Part 3 - Configuring access internally + externally.ipynb\n",
      "Docker Notebook - Part 4 - Building a web farm for development and testing.ipynb\n",
      "README.md\n",
      "bluefreedom3.zip\n",
      "dockerwww\n",
      "img\n",
      "requirements.txt\n",
      "venv\n"
     ]
    }
   ],
   "source": [
    "ls"
   ]
  },
  {
   "cell_type": "code",
   "execution_count": 6,
   "metadata": {
    "collapsed": true
   },
   "outputs": [],
   "source": [
    "mv dockerwww dockergit"
   ]
  },
  {
   "cell_type": "code",
   "execution_count": null,
   "metadata": {
    "collapsed": true
   },
   "outputs": [],
   "source": []
  }
 ],
 "metadata": {
  "kernelspec": {
   "display_name": "Bash",
   "language": "bash",
   "name": "bash"
  },
  "language_info": {
   "codemirror_mode": "shell",
   "file_extension": ".sh",
   "mimetype": "text/x-sh",
   "name": "bash"
  }
 },
 "nbformat": 4,
 "nbformat_minor": 2
}

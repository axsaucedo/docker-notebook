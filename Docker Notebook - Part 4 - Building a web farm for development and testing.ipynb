{
 "cells": [
  {
   "cell_type": "markdown",
   "metadata": {},
   "source": [
    "# Part Four\n",
    "## Building a web farm for development and testing"
   ]
  },
  {
   "cell_type": "markdown",
   "metadata": {},
   "source": [
    "### Committing previous changes"
   ]
  },
  {
   "cell_type": "code",
   "execution_count": 1,
   "metadata": {
    "collapsed": false
   },
   "outputs": [
    {
     "name": "stdout",
     "output_type": "stream",
     "text": [
      "REPOSITORY          TAG                 IMAGE ID            CREATED             SIZE\n",
      "centos6             serverv1            be824f20375e        21 minutes ago      373 MB\n",
      "centos6             baseweb             34079efab3e4        2 hours ago         373 MB\n",
      "centos              centos6             8315978ceaaa        4 months ago        195 MB\n"
     ]
    }
   ],
   "source": [
    "docker images"
   ]
  },
  {
   "cell_type": "code",
   "execution_count": 2,
   "metadata": {
    "collapsed": false
   },
   "outputs": [
    {
     "name": "stdout",
     "output_type": "stream",
     "text": [
      "CONTAINER ID        IMAGE               COMMAND             CREATED             STATUS                           PORTS                  NAMES\n",
      "af3ac3489de7        centos6:serverv1    \"/bin/bash\"         14 minutes ago      Up 14 minutes                    0.0.0.0:8081->80/tcp   externalweb\n",
      "62043409c68d        centos6:serverv1    \"/bin/bash\"         19 minutes ago      Up 18 minutes                    80/tcp                 contserv1\n",
      "f9fd0dbebbeb        centos6:baseweb     \"/bin/bash\"         About an hour ago   Exited (255) 32 minutes ago      0.0.0.0:8080->80/tcp   webtest\n",
      "695d1ddda23e        centos6:baseweb     \"/bin/bash\"         2 hours ago         Exited (137) About an hour ago                          fervent_wright\n",
      "548f70d44cb2        centos:centos6      \"/bin/bash\"         3 hours ago         Exited (137) 2 hours ago                                reverent_pasteur\n"
     ]
    }
   ],
   "source": [
    "docker ps -a"
   ]
  },
  {
   "cell_type": "markdown",
   "metadata": {},
   "source": [
    "**We can see our container externalweb, and we want to commit it to save it**"
   ]
  },
  {
   "cell_type": "code",
   "execution_count": 3,
   "metadata": {
    "collapsed": false
   },
   "outputs": [
    {
     "name": "stdout",
     "output_type": "stream",
     "text": [
      "sha256:758e7bcba59c48e0b2cbb4563881cef79755bca73ab41d723967ff177c922e2d\n"
     ]
    }
   ],
   "source": [
    "docker commit externalweb centos6:finalwebv1"
   ]
  },
  {
   "cell_type": "markdown",
   "metadata": {},
   "source": [
    "**This is the base container which we use to base all the systems from**"
   ]
  },
  {
   "cell_type": "code",
   "execution_count": 4,
   "metadata": {
    "collapsed": false
   },
   "outputs": [
    {
     "name": "stdout",
     "output_type": "stream",
     "text": [
      "REPOSITORY          TAG                 IMAGE ID            CREATED             SIZE\n",
      "centos6             finalwebv1          758e7bcba59c        22 seconds ago      373 MB\n",
      "centos6             serverv1            be824f20375e        22 minutes ago      373 MB\n",
      "centos6             baseweb             34079efab3e4        2 hours ago         373 MB\n",
      "centos              centos6             8315978ceaaa        4 months ago        195 MB\n"
     ]
    }
   ],
   "source": [
    "docker images"
   ]
  },
  {
   "cell_type": "markdown",
   "metadata": {},
   "source": [
    "**We can see our image is there - so we're good :)**"
   ]
  },
  {
   "cell_type": "markdown",
   "metadata": {},
   "source": [
    "## Managing Web Directory\n",
    "We would normally not have the git repo with everything there.\n",
    "We'll move our dockerwww to dockergit, which will be our github repository, so that it's separate from our build repository."
   ]
  },
  {
   "cell_type": "code",
   "execution_count": 5,
   "metadata": {
    "collapsed": false
   },
   "outputs": [
    {
     "name": "stdout",
     "output_type": "stream",
     "text": [
      "Docker Notebook - Part 1 - Creating and removing containers + images.ipynb\n",
      "Docker Notebook - Part 2 - Setting up the website.ipynb\n",
      "Docker Notebook - Part 3 - Configuring access internally + externally.ipynb\n",
      "Docker Notebook - Part 4 - Building a web farm for development and testing.ipynb\n",
      "README.md\n",
      "bluefreedom3.zip\n",
      "dockerwww\n",
      "img\n",
      "requirements.txt\n",
      "venv\n"
     ]
    }
   ],
   "source": [
    "ls"
   ]
  },
  {
   "cell_type": "code",
   "execution_count": 6,
   "metadata": {
    "collapsed": true
   },
   "outputs": [],
   "source": [
    "mv dockerwww dockergit"
   ]
  },
  {
   "cell_type": "code",
   "execution_count": 12,
   "metadata": {
    "collapsed": false
   },
   "outputs": [
    {
     "name": "stdout",
     "output_type": "stream",
     "text": [
      "Cloning into 'dockerwwwfull'...\n",
      "done.\n"
     ]
    }
   ],
   "source": [
    "# We want to clone the repository to treat this as if it was the prod version\n",
    "rm -rf dockerwwwfull\n",
    "git clone $(pwd) dockerwwwfull\n",
    "mv dockerwwwfull/dockergit dockerwww\n",
    "rm -rf dockerwwwfull"
   ]
  },
  {
   "cell_type": "markdown",
   "metadata": {},
   "source": [
    "## Starting docker\n",
    "Now let's start our docker instances"
   ]
  },
  {
   "cell_type": "code",
   "execution_count": 19,
   "metadata": {
    "collapsed": false
   },
   "outputs": [
    {
     "name": "stdout",
     "output_type": "stream",
     "text": [
      "REPOSITORY          TAG                 IMAGE ID            CREATED             SIZE\n",
      "centos6             finalwebv1          758e7bcba59c        6 minutes ago       373 MB\n",
      "centos6             serverv1            be824f20375e        28 minutes ago      373 MB\n",
      "centos6             baseweb             34079efab3e4        2 hours ago         373 MB\n",
      "centos              centos6             8315978ceaaa        4 months ago        195 MB\n"
     ]
    }
   ],
   "source": [
    "docker images"
   ]
  },
  {
   "cell_type": "markdown",
   "metadata": {},
   "source": [
    "## **Launch PROD instance 2**"
   ]
  },
  {
   "cell_type": "code",
   "execution_count": 26,
   "metadata": {
    "collapsed": false
   },
   "outputs": [
    {
     "name": "stdout",
     "output_type": "stream",
     "text": [
      "f0396e16605a5b5e6abaefcc6640db58f8420591061986172d401ad2ddcb617b\n"
     ]
    }
   ],
   "source": [
    "docker run -dit --name=devweb1 -p 8081:80 -v $(pwd)/dockerwww:/var/www/html centos6:finalwebv1 /bin/bash\n"
   ]
  },
  {
   "cell_type": "code",
   "execution_count": 27,
   "metadata": {
    "collapsed": false
   },
   "outputs": [
    {
     "name": "stdout",
     "output_type": "stream",
     "text": [
      "CONTAINER ID        IMAGE                COMMAND             CREATED             STATUS              PORTS                  NAMES\n",
      "f0396e16605a        centos6:finalwebv1   \"/bin/bash\"         5 seconds ago       Up 4 seconds        0.0.0.0:8081->80/tcp   devweb1\n"
     ]
    }
   ],
   "source": [
    "docker ps"
   ]
  },
  {
   "cell_type": "markdown",
   "metadata": {},
   "source": [
    "## Launch PROD instance 1"
   ]
  },
  {
   "cell_type": "code",
   "execution_count": 28,
   "metadata": {
    "collapsed": false
   },
   "outputs": [
    {
     "name": "stdout",
     "output_type": "stream",
     "text": [
      "1c8098f3ec121a0679487e38459cc26b96178b71e96bb3741567e2ab9871111a\n"
     ]
    }
   ],
   "source": [
    "docker run -dit --name=devweb2 -p 8082:80 -v $(pwd)/dockerwww:/var/www/html centos6:finalwebv1 /bin/bash\n"
   ]
  },
  {
   "cell_type": "code",
   "execution_count": 29,
   "metadata": {
    "collapsed": false
   },
   "outputs": [
    {
     "name": "stdout",
     "output_type": "stream",
     "text": [
      "CONTAINER ID        IMAGE                COMMAND             CREATED             STATUS              PORTS                  NAMES\n",
      "1c8098f3ec12        centos6:finalwebv1   \"/bin/bash\"         4 seconds ago       Up 3 seconds        0.0.0.0:8082->80/tcp   devweb2\n",
      "f0396e16605a        centos6:finalwebv1   \"/bin/bash\"         43 seconds ago      Up 43 seconds       0.0.0.0:8081->80/tcp   devweb1\n"
     ]
    }
   ],
   "source": [
    "docker ps"
   ]
  },
  {
   "cell_type": "markdown",
   "metadata": {},
   "source": [
    "**Nowboth are running!**\n",
    "\n",
    "## Inspect for IP"
   ]
  },
  {
   "cell_type": "code",
   "execution_count": 32,
   "metadata": {
    "collapsed": false
   },
   "outputs": [
    {
     "name": "stdout",
     "output_type": "stream",
     "text": [
      "            \"SecondaryIPAddresses\": null,\n",
      "            \"IPAddress\": \"172.17.0.2\",\n",
      "                    \"IPAddress\": \"172.17.0.2\",\n"
     ]
    }
   ],
   "source": [
    "docker inspect devweb1 | grep IPAddress"
   ]
  },
  {
   "cell_type": "code",
   "execution_count": 33,
   "metadata": {
    "collapsed": false
   },
   "outputs": [
    {
     "name": "stdout",
     "output_type": "stream",
     "text": [
      "            \"SecondaryIPAddresses\": null,\n",
      "            \"IPAddress\": \"172.17.0.3\",\n",
      "                    \"IPAddress\": \"172.17.0.3\",\n"
     ]
    }
   ],
   "source": [
    "docker inspect devweb2 | grep IPAddress"
   ]
  },
  {
   "cell_type": "markdown",
   "metadata": {},
   "source": [
    "**We should be able to visit both of the IP addresses, as well as through both of the port of the http://localhost:8081 and http://localhost:8082**"
   ]
  },
  {
   "cell_type": "markdown",
   "metadata": {},
   "source": [
    "## Proxy and load balance\n",
    "We will install nginx to proxy and load balance the connection to these both containers. \n",
    "We will proxy port 80 into both port 8081 and 8082\n",
    "### Make sure you have NGINX installed!\n",
    "We should now have:\n",
    "* NGINX running in port 8080\n",
    "* One server running in port 8081\n",
    "* Another server running in port 8082\n",
    "\n",
    "All we have to do is to access the NGINX file in sites-available, and add this to our file:\n",
    "\n",
    "``` bash\n",
    "\n",
    "upstream containerapp {\n",
    "    server 127.0.0.1:8081;\n",
    "    server 127.0.0.1:8082;\n",
    "}\n",
    "\n",
    "server {\n",
    "    listen *:80;\n",
    "\n",
    "    server_name 127.0.0.1;\n",
    "    index index.html index.htm index.php;\n",
    "\n",
    "    access_log /Users/alejandrosaucedo/Programming/devnull/helloworlddocker/localweb.log;\n",
    "    error_log /Users/alejandrosaucedo/Programming/devnull/helloworlddocker/localerr.log;\n",
    "\n",
    "    location / {\n",
    "        proxy_pass http://containerapp;\n",
    "    }\n",
    "}\n",
    "\n",
    "```"
   ]
  },
  {
   "cell_type": "markdown",
   "metadata": {},
   "source": [
    "### Multi-farm web setup!\n",
    "This has allowed us to manage a multi-container setup that provides load balacing to our two apps from external access!\n"
   ]
  }
 ],
 "metadata": {
  "kernelspec": {
   "display_name": "Bash",
   "language": "bash",
   "name": "bash"
  },
  "language_info": {
   "codemirror_mode": "shell",
   "file_extension": ".sh",
   "mimetype": "text/x-sh",
   "name": "bash"
  }
 },
 "nbformat": 4,
 "nbformat_minor": 2
}

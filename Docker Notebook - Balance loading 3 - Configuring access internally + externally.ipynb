{
 "cells": [
  {
   "cell_type": "markdown",
   "metadata": {
    "deletable": true,
    "editable": true
   },
   "source": [
    "# Part Three\n",
    "## Configuring access internally / externally"
   ]
  },
  {
   "cell_type": "markdown",
   "metadata": {
    "deletable": true,
    "editable": true
   },
   "source": [
    "We have created a container that hosts a website in the previous part.\n",
    "**Let's continue from there.**\n",
    "To start let's check our available images"
   ]
  },
  {
   "cell_type": "code",
   "execution_count": 2,
   "metadata": {
    "collapsed": false,
    "deletable": true,
    "editable": true
   },
   "outputs": [
    {
     "name": "stdout",
     "output_type": "stream",
     "text": [
      "REPOSITORY          TAG                 IMAGE ID            CREATED             SIZE\n",
      "centos6             baseweb             34079efab3e4        About an hour ago   373 MB\n",
      "centos              centos6             8315978ceaaa        4 months ago        195 MB\n"
     ]
    }
   ],
   "source": [
    "docker images"
   ]
  },
  {
   "cell_type": "markdown",
   "metadata": {
    "deletable": true,
    "editable": true
   },
   "source": [
    "**And now let's have a look on all the containers that we have ran**"
   ]
  },
  {
   "cell_type": "code",
   "execution_count": 3,
   "metadata": {
    "collapsed": false,
    "deletable": true,
    "editable": true
   },
   "outputs": [
    {
     "name": "stdout",
     "output_type": "stream",
     "text": [
      "CONTAINER ID        IMAGE               COMMAND             CREATED             STATUS                           PORTS                  NAMES\n",
      "f9fd0dbebbeb        centos6:baseweb     \"/bin/bash\"         58 minutes ago      Exited (255) 10 minutes ago      0.0.0.0:8080->80/tcp   webtest\n",
      "695d1ddda23e        centos6:baseweb     \"/bin/bash\"         About an hour ago   Exited (137) About an hour ago                          fervent_wright\n",
      "548f70d44cb2        centos:centos6      \"/bin/bash\"         2 hours ago         Exited (137) About an hour ago                          reverent_pasteur\n"
     ]
    }
   ],
   "source": [
    "docker ps -a"
   ]
  },
  {
   "cell_type": "markdown",
   "metadata": {
    "deletable": true,
    "editable": true
   },
   "source": [
    "## Setting up container\n",
    "### Commit\n",
    "We can still see the container we created previously. Let's save that one by committing it."
   ]
  },
  {
   "cell_type": "code",
   "execution_count": 4,
   "metadata": {
    "collapsed": false,
    "deletable": true,
    "editable": true
   },
   "outputs": [
    {
     "name": "stdout",
     "output_type": "stream",
     "text": [
      "sha256:be824f20375e5cc3ef3e2d1ef798f93697edf4d0f59b05e55f8c14648ba6cc60\n"
     ]
    }
   ],
   "source": [
    "docker commit webtest centos6:serverv1"
   ]
  },
  {
   "cell_type": "markdown",
   "metadata": {
    "deletable": true,
    "editable": true
   },
   "source": [
    "**Let's have a look**"
   ]
  },
  {
   "cell_type": "code",
   "execution_count": 5,
   "metadata": {
    "collapsed": false,
    "deletable": true,
    "editable": true
   },
   "outputs": [
    {
     "name": "stdout",
     "output_type": "stream",
     "text": [
      "REPOSITORY          TAG                 IMAGE ID            CREATED             SIZE\n",
      "centos6             serverv1            be824f20375e        11 seconds ago      373 MB\n",
      "centos6             baseweb             34079efab3e4        About an hour ago   373 MB\n",
      "centos              centos6             8315978ceaaa        4 months ago        195 MB\n"
     ]
    }
   ],
   "source": [
    "docker images"
   ]
  },
  {
   "cell_type": "markdown",
   "metadata": {
    "deletable": true,
    "editable": true
   },
   "source": [
    "**There we can see our new serverv1!**\n",
    "Let's have a look on how this looks like"
   ]
  },
  {
   "cell_type": "code",
   "execution_count": 10,
   "metadata": {
    "collapsed": false,
    "deletable": true,
    "editable": true
   },
   "outputs": [
    {
     "name": "stdout",
     "output_type": "stream",
     "text": [
      "62043409c68ded137b9eba4fd8949a28f302f292c1af731e6c116cd6381d4a12\n"
     ]
    }
   ],
   "source": [
    "docker run --name contserv1 -dit centos6:serverv1 /bin/bash"
   ]
  },
  {
   "cell_type": "code",
   "execution_count": 11,
   "metadata": {
    "collapsed": false,
    "deletable": true,
    "editable": true
   },
   "outputs": [
    {
     "name": "stdout",
     "output_type": "stream",
     "text": [
      "CONTAINER ID        IMAGE               COMMAND             CREATED             STATUS                  PORTS               NAMES\n",
      "62043409c68d        centos6:serverv1    \"/bin/bash\"         2 seconds ago       Up Less than a second   80/tcp              contserv1\n"
     ]
    }
   ],
   "source": [
    "docker ps"
   ]
  },
  {
   "cell_type": "code",
   "execution_count": 12,
   "metadata": {
    "collapsed": false,
    "deletable": true,
    "editable": true
   },
   "outputs": [
    {
     "name": "stdout",
     "output_type": "stream",
     "text": [
      "Starting httpd: httpd: Could not reliably determine the server's fully qualified domain name, using 172.17.0.2 for ServerName\n",
      "\u001b[60G[\u001b[0;32m  OK  \u001b[0;39m]\n",
      "Starting sshd: \u001b[60G[\u001b[0;32m  OK  \u001b[0;39m]\n"
     ]
    }
   ],
   "source": [
    "docker logs contserv1"
   ]
  },
  {
   "cell_type": "markdown",
   "metadata": {
    "deletable": true,
    "editable": true
   },
   "source": [
    "**We can see that all is good so far....**\n",
    "### However params are not saved!"
   ]
  },
  {
   "cell_type": "code",
   "execution_count": 14,
   "metadata": {
    "collapsed": false,
    "deletable": true,
    "editable": true
   },
   "outputs": [
    {
     "name": "stdout",
     "output_type": "stream",
     "text": [
      "Filesystem      Size  Used Avail Use% Mounted on\n",
      "overlay          63G  1.7G   58G   3% /\n",
      "tmpfs          1000M     0 1000M   0% /dev\n",
      "tmpfs          1000M     0 1000M   0% /sys/fs/cgroup\n",
      "/dev/vda1        63G  1.7G   58G   3% /etc/resolv.conf\n",
      "/dev/vda1        63G  1.7G   58G   3% /etc/hostname\n",
      "/dev/vda1        63G  1.7G   58G   3% /etc/hosts\n",
      "shm              64M     0   64M   0% /dev/shm\n",
      "tmpfs          1000M     0 1000M   0% /proc/kcore\n",
      "tmpfs          1000M     0 1000M   0% /proc/timer_list\n",
      "tmpfs          1000M     0 1000M   0% /proc/sched_debug\n",
      "tmpfs          1000M     0 1000M   0% /sys/firmware\n"
     ]
    }
   ],
   "source": [
    "docker exec contserv1 df -h"
   ]
  },
  {
   "cell_type": "markdown",
   "metadata": {
    "deletable": true,
    "editable": true
   },
   "source": [
    "**As you can notice, neither our ports, nor our volume is being saved!**\n",
    "That sucks...\n",
    "We didnt inherit all the changes.\n",
    "### Fixing the problem\n",
    "We want to:\n",
    "\n",
    "* Mount underlying system as before\n",
    "* Map port"
   ]
  },
  {
   "cell_type": "code",
   "execution_count": 15,
   "metadata": {
    "collapsed": false,
    "deletable": true,
    "editable": true
   },
   "outputs": [
    {
     "name": "stdout",
     "output_type": "stream",
     "text": [
      "af3ac3489de7e106375a5c227c75941e968d3bf0c36639550263c89e4edd803f\n"
     ]
    }
   ],
   "source": [
    "docker run --name=externalweb -p 8081:80 -v $(pwd)/dockerwww:/var/www/html -dit centos6:serverv1 /bin/bash"
   ]
  },
  {
   "cell_type": "code",
   "execution_count": 16,
   "metadata": {
    "collapsed": false,
    "deletable": true,
    "editable": true
   },
   "outputs": [
    {
     "name": "stdout",
     "output_type": "stream",
     "text": [
      "CONTAINER ID        IMAGE               COMMAND             CREATED             STATUS              PORTS                  NAMES\n",
      "af3ac3489de7        centos6:serverv1    \"/bin/bash\"         7 seconds ago       Up 5 seconds        0.0.0.0:8081->80/tcp   externalweb\n",
      "62043409c68d        centos6:serverv1    \"/bin/bash\"         4 minutes ago       Up 4 minutes        80/tcp                 contserv1\n"
     ]
    }
   ],
   "source": [
    "docker ps"
   ]
  },
  {
   "cell_type": "code",
   "execution_count": 18,
   "metadata": {
    "collapsed": false,
    "deletable": true,
    "editable": true
   },
   "outputs": [
    {
     "name": "stdout",
     "output_type": "stream",
     "text": [
      "Starting httpd: httpd: Could not reliably determine the server's fully qualified domain name, using 172.17.0.3 for ServerName\n",
      "\u001b[60G[\u001b[0;32m  OK  \u001b[0;39m]\n",
      "Starting sshd: \u001b[60G[\u001b[0;32m  OK  \u001b[0;39m]\n"
     ]
    }
   ],
   "source": [
    "docker logs externalweb"
   ]
  },
  {
   "cell_type": "markdown",
   "metadata": {
    "deletable": true,
    "editable": true
   },
   "source": [
    "**Right we can see that our docker instance is running, and the port mapping worked successfully**"
   ]
  },
  {
   "cell_type": "code",
   "execution_count": 17,
   "metadata": {
    "collapsed": false,
    "deletable": true,
    "editable": true
   },
   "outputs": [
    {
     "name": "stdout",
     "output_type": "stream",
     "text": [
      "lo0: flags=8049<UP,LOOPBACK,RUNNING,MULTICAST> mtu 16384\n",
      "\toptions=3<RXCSUM,TXCSUM>\n",
      "\tinet6 ::1 prefixlen 128 \n",
      "\tinet 127.0.0.1 netmask 0xff000000 \n",
      "\tinet6 fe80::1%lo0 prefixlen 64 scopeid 0x1 \n",
      "\tnd6 options=1<PERFORMNUD>\n",
      "gif0: flags=8010<POINTOPOINT,MULTICAST> mtu 1280\n",
      "stf0: flags=0<> mtu 1280\n",
      "en0: flags=8863<UP,BROADCAST,SMART,RUNNING,SIMPLEX,MULTICAST> mtu 1500\n",
      "\tether f4:5c:89:9f:ff:d9 \n",
      "\tinet6 fe80::f65c:89ff:fe9f:ffd9%en0 prefixlen 64 scopeid 0x4 \n",
      "\tinet 192.168.15.93 netmask 0xffffff00 broadcast 192.168.15.255\n",
      "\tnd6 options=1<PERFORMNUD>\n",
      "\tmedia: autoselect\n",
      "\tstatus: active\n",
      "en1: flags=963<UP,BROADCAST,SMART,RUNNING,PROMISC,SIMPLEX> mtu 1500\n",
      "\toptions=60<TSO4,TSO6>\n",
      "\tether 6a:00:01:b4:37:50 \n",
      "\tmedia: autoselect <full-duplex>\n",
      "\tstatus: inactive\n",
      "en2: flags=963<UP,BROADCAST,SMART,RUNNING,PROMISC,SIMPLEX> mtu 1500\n",
      "\toptions=60<TSO4,TSO6>\n",
      "\tether 6a:00:01:b4:37:51 \n",
      "\tmedia: autoselect <full-duplex>\n",
      "\tstatus: inactive\n",
      "bridge0: flags=8863<UP,BROADCAST,SMART,RUNNING,SIMPLEX,MULTICAST> mtu 1500\n",
      "\toptions=63<RXCSUM,TXCSUM,TSO4,TSO6>\n",
      "\tether f6:5c:89:f9:26:00 \n",
      "\tConfiguration:\n",
      "\t\tid 0:0:0:0:0:0 priority 0 hellotime 0 fwddelay 0\n",
      "\t\tmaxage 0 holdcnt 0 proto stp maxaddr 100 timeout 1200\n",
      "\t\troot id 0:0:0:0:0:0 priority 0 ifcost 0 port 0\n",
      "\t\tipfilter disabled flags 0x2\n",
      "\tmember: en1 flags=3<LEARNING,DISCOVER>\n",
      "\t        ifmaxaddr 0 port 5 priority 0 path cost 0\n",
      "\tmember: en2 flags=3<LEARNING,DISCOVER>\n",
      "\t        ifmaxaddr 0 port 6 priority 0 path cost 0\n",
      "\tnd6 options=1<PERFORMNUD>\n",
      "\tmedia: <unknown type>\n",
      "\tstatus: inactive\n",
      "p2p0: flags=8843<UP,BROADCAST,RUNNING,SIMPLEX,MULTICAST> mtu 2304\n",
      "\tether 06:5c:89:9f:ff:d9 \n",
      "\tmedia: autoselect\n",
      "\tstatus: inactive\n",
      "awdl0: flags=8943<UP,BROADCAST,RUNNING,PROMISC,SIMPLEX,MULTICAST> mtu 1484\n",
      "\tether 3a:cf:73:36:cd:f3 \n",
      "\tinet6 fe80::38cf:73ff:fe36:cdf3%awdl0 prefixlen 64 scopeid 0x9 \n",
      "\tnd6 options=1<PERFORMNUD>\n",
      "\tmedia: autoselect\n",
      "\tstatus: active\n",
      "utun0: flags=8051<UP,POINTOPOINT,RUNNING,MULTICAST> mtu 1500\n",
      "\tinet 10.25.19.182 --> 10.25.19.181 netmask 0xffffffff \n"
     ]
    }
   ],
   "source": [
    "ifconfig"
   ]
  },
  {
   "cell_type": "markdown",
   "metadata": {
    "deletable": true,
    "editable": true
   },
   "source": [
    "### Other benefits\n",
    "We can now do different things with our container such as creating a new user, and connecting to ssh directly!"
   ]
  }
 ],
 "metadata": {
  "kernelspec": {
   "display_name": "Bash",
   "language": "bash",
   "name": "bash"
  },
  "language_info": {
   "codemirror_mode": "shell",
   "file_extension": ".sh",
   "mimetype": "text/x-sh",
   "name": "bash"
  }
 },
 "nbformat": 4,
 "nbformat_minor": 2
}

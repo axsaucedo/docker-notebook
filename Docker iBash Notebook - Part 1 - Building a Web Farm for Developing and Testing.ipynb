{
 "cells": [
  {
   "cell_type": "markdown",
   "metadata": {
    "deletable": true,
    "editable": true
   },
   "source": [
    "# Part One: \n",
    "## Building a Web Farm for Developing and Testing"
   ]
  },
  {
   "cell_type": "markdown",
   "metadata": {
    "collapsed": true,
    "deletable": true,
    "editable": true
   },
   "source": [
    "### Starting from scratch\n",
    "We can see that we are now starting without any images"
   ]
  },
  {
   "cell_type": "code",
   "execution_count": 6,
   "metadata": {
    "collapsed": false,
    "deletable": true,
    "editable": true
   },
   "outputs": [
    {
     "name": "stdout",
     "output_type": "stream",
     "text": [
      "REPOSITORY          TAG                 IMAGE ID            CREATED             SIZE\n"
     ]
    }
   ],
   "source": [
    "docker images"
   ]
  },
  {
   "cell_type": "markdown",
   "metadata": {
    "deletable": true,
    "editable": true
   },
   "source": [
    "### Download Centos 6 Image\n",
    "We start by using the 'pull' command provided by docker to get the centos6:latest image"
   ]
  },
  {
   "cell_type": "code",
   "execution_count": 9,
   "metadata": {
    "collapsed": false,
    "deletable": true,
    "editable": true
   },
   "outputs": [
    {
     "name": "stdout",
     "output_type": "stream",
     "text": [
      "centos6: Pulling from library/centos\n",
      "\n",
      "\u001b[1BDigest: sha256:1092df198d3da4faccc0660941b763ce5adf133b0ec71701b760d6f173c1f47b\n",
      "Status: Downloaded newer image for centos:centos6\n"
     ]
    }
   ],
   "source": [
    "docker pull centos:centos6"
   ]
  },
  {
   "cell_type": "markdown",
   "metadata": {
    "deletable": true,
    "editable": true
   },
   "source": [
    "### Check image\n",
    "Now that we downloaded the image we can check if the image downloaded correctly."
   ]
  },
  {
   "cell_type": "code",
   "execution_count": 10,
   "metadata": {
    "collapsed": false,
    "deletable": true,
    "editable": true
   },
   "outputs": [
    {
     "name": "stdout",
     "output_type": "stream",
     "text": [
      "REPOSITORY          TAG                 IMAGE ID            CREATED             SIZE\n",
      "centos              centos6             8315978ceaaa        4 months ago        195 MB\n"
     ]
    }
   ],
   "source": [
    "docker images"
   ]
  },
  {
   "cell_type": "markdown",
   "metadata": {
    "deletable": true,
    "editable": true
   },
   "source": [
    "### Launch an instance + install dependencies\n",
    "We launch a docker instance from the centos:centos6 and install all dependencies.\n",
    "Because the ipython notebook doesn't allow, in order to install all the dependencies, we had to run the docker container, and then use another terminal window to run \"```docker attach [DOCKER_ID]```\"to run all the commands manually there.\n",
    "The commands that were run were:\n",
    "``` bash\n",
    "# Download wget\n",
    "yum install wget\n",
    "\n",
    "# Download + install epel\n",
    "wget http://dl.fedoraproject.org/pub/epel/6/x86_64/epel-release-6-8.noarch.rpm\n",
    "rpm -Uvh epel-release-6-8.noarch.rpm\n",
    "\n",
    "# update\n",
    "yum update\n",
    "\n",
    "# install all dependencies\n",
    "yum install which sudo httpd php openssh-server -y\n",
    "\n",
    "# The we add to .bashrc\n",
    "cd\n",
    "echo \"/sbin/service httpd start\" >> .bashrc\n",
    "echo \"/sbin/service openssh-server start\" >> .bashrc\n",
    "\n",
    "# We copy our base image and exit\n",
    "exit\n",
    "```"
   ]
  },
  {
   "cell_type": "code",
   "execution_count": 5,
   "metadata": {
    "collapsed": false,
    "deletable": true,
    "editable": true
   },
   "outputs": [
    {
     "name": "stdout",
     "output_type": "stream",
     "text": [
      "\u001b[K[root@548f70d44cb2 /]# yum install wget4cb2 /]# \n",
      "Loaded plugins: fastestmirror, ovl\n",
      "Setting up Install Process\n",
      "base                                                                                                            | 3.7 kB     00:00     \n",
      "base/primary_db                                                                                                 | 4.7 MB     00:04     \n",
      "extras                                                                                                          | 3.4 kB     00:00     \n",
      "extras/primary_db                                                                                               |  37 kB     00:00     \n",
      "updates                                                                                                         | 3.4 kB     00:00     \n",
      "updates/primary_db                                                                                              | 5.4 MB     00:21     \n",
      "Resolving Dependencies\n",
      "--> Running transaction check\n",
      "---> Package wget.x86_64 0:1.12-8.el6 will be installed\n",
      "--> Finished Dependency Resolution\n",
      "\n",
      "Dependencies Resolved\n",
      "\n",
      "=======================================================================================================================================\n",
      " Package                       Arch                            Version                             Repository                     Size\n",
      "=======================================================================================================================================\n",
      "Installing:\n",
      " wget                          x86_64                          1.12-8.el6                          base                          484 k\n",
      "\n",
      "Transaction Summary\n",
      "=======================================================================================================================================\n",
      "Install       1 Package(s)\n",
      "\n",
      "Total download size: 484 k\n",
      "Installed size: 1.8 M\n",
      "Is this ok [y/N]: y\n",
      "Downloading Packages:\n",
      "wget-1.12-8.el6.x86_64.rpm                                                                                      | 484 kB     00:01     \n",
      "warning: rpmts_HdrFromFdno: Header V3 RSA/SHA1 Signature, key ID c105b9de: NOKEY\n",
      "Retrieving key from file:///etc/pki/rpm-gpg/RPM-GPG-KEY-CentOS-6\n",
      "Importing GPG key 0xC105B9DE:\n",
      " Userid : CentOS-6 Key (CentOS 6 Official Signing Key) <centos-6-key@centos.org>\n",
      " Package: centos-release-6-8.el6.centos.12.3.x86_64 (@CentOS/6.8)\n",
      " From   : /etc/pki/rpm-gpg/RPM-GPG-KEY-CentOS-6\n",
      "Is this ok [y/N]: y\n",
      "Running rpm_check_debug\n",
      "Running Transaction Test\n",
      "Transaction Test Succeeded\n",
      "Running Transaction\n",
      "  Installing : wget-1.12-8.el6.x86_64                                                                                              1/1 \n",
      "install-info: No such file or directory for /usr/share/info/wget.info.gz\n",
      "  Verifying  : wget-1.12-8.el6.x86_64                                                                                              1/1 \n",
      "\n",
      "Installed:\n",
      "  wget.x86_64 0:1.12-8.el6                                                                                                             \n",
      "\n",
      "Complete!\n",
      "\u001b]0;@548f70d44cb2:/\u0007[root@548f70d44cb2 /]# wget http://dl.fedoraproject.org/pub/epel/6/x86_64/epel-release-6-8.noarch.rpm\n",
      "--2017-03-12 11:15:18--  http://dl.fedoraproject.org/pub/epel/6/x86_64/epel-release-6-8.noarch.rpm\n",
      "Resolving dl.fedoraproject.org... 209.132.181.23, 209.132.181.24, 209.132.181.25\n",
      "Connecting to dl.fedoraproject.org|209.132.181.23|:80... connected.\n",
      "HTTP request sent, awaiting response... 200 OK\n",
      "Length: 14540 (14K) [application/x-rpm]\n",
      "Saving to: `epel-release-6-8.noarch.rpm'\n",
      "\n",
      "100%[=============================================================================================>] 14,540      89.5K/s   in 0.2s    \n",
      "\n",
      "2017-03-12 11:15:19 (89.5 KB/s) - `epel-release-6-8.noarch.rpm' saved [14540/14540]\n",
      "\n",
      "\u001b]0;@548f70d44cb2:/\u0007[root@548f70d44cb2 /]# rpm -u\b \bUvh epel-release-6-8.noarch.rpm \n",
      "warning: epel-release-6-8.noarch.rpm: Header V3 RSA/SHA256 Signature, key ID 0608b895: NOKEY\n",
      "Preparing...                                                            (100%)\b\b\b\b\b\b\b\b\b\b\b\b\b\b\b\b\b\b\b\b\b\b\b\b\b\b\b\b\b\b\b\b\b\b\b\b\b\b\b\b\b\b\b\b\b\b\b\b\b\b#                                           (100%)\b\b\b\b\b\b\b\b\b\b\b\b\b\b\b\b\b\b\b\b\b\b\b\b\b\b\b\b\b\b\b\b\b\b\b\b\b\b\b\b\b\b\b\b\b\b\b\b\b\b##                                          (100%)\b\b\b\b\b\b\b\b\b\b\b\b\b\b\b\b\b\b\b\b\b\b\b\b\b\b\b\b\b\b\b\b\b\b\b\b\b\b\b\b\b\b\b\b\b\b\b\b\b\b###                                         (100%)\b\b\b\b\b\b\b\b\b\b\b\b\b\b\b\b\b\b\b\b\b\b\b\b\b\b\b\b\b\b\b\b\b\b\b\b\b\b\b\b\b\b\b\b\b\b\b\b\b\b####                                        (100%)\b\b\b\b\b\b\b\b\b\b\b\b\b\b\b\b\b\b\b\b\b\b\b\b\b\b\b\b\b\b\b\b\b\b\b\b\b\b\b\b\b\b\b\b\b\b\b\b\b\b#####                                       (100%)\b\b\b\b\b\b\b\b\b\b\b\b\b\b\b\b\b\b\b\b\b\b\b\b\b\b\b\b\b\b\b\b\b\b\b\b\b\b\b\b\b\b\b\b\b\b\b\b\b\b######                                      (100%)\b\b\b\b\b\b\b\b\b\b\b\b\b\b\b\b\b\b\b\b\b\b\b\b\b\b\b\b\b\b\b\b\b\b\b\b\b\b\b\b\b\b\b\b\b\b\b\b\b\b#######                                     (100%)\b\b\b\b\b\b\b\b\b\b\b\b\b\b\b\b\b\b\b\b\b\b\b\b\b\b\b\b\b\b\b\b\b\b\b\b\b\b\b\b\b\b\b\b\b\b\b\b\b\b########                                    (100%)\b\b\b\b\b\b\b\b\b\b\b\b\b\b\b\b\b\b\b\b\b\b\b\b\b\b\b\b\b\b\b\b\b\b\b\b\b\b\b\b\b\b\b\b\b\b\b\b\b\b#########                                   (100%)\b\b\b\b\b\b\b\b\b\b\b\b\b\b\b\b\b\b\b\b\b\b\b\b\b\b\b\b\b\b\b\b\b\b\b\b\b\b\b\b\b\b\b\b\b\b\b\b\b\b##########                                  (100%)\b\b\b\b\b\b\b\b\b\b\b\b\b\b\b\b\b\b\b\b\b\b\b\b\b\b\b\b\b\b\b\b\b\b\b\b\b\b\b\b\b\b\b\b\b\b\b\b\b\b###########                                 (100%)\b\b\b\b\b\b\b\b\b\b\b\b\b\b\b\b\b\b\b\b\b\b\b\b\b\b\b\b\b\b\b\b\b\b\b\b\b\b\b\b\b\b\b\b\b\b\b\b\b\b############                                (100%)\b\b\b\b\b\b\b\b\b\b\b\b\b\b\b\b\b\b\b\b\b\b\b\b\b\b\b\b\b\b\b\b\b\b\b\b\b\b\b\b\b\b\b\b\b\b\b\b\b\b#############                               (100%)\b\b\b\b\b\b\b\b\b\b\b\b\b\b\b\b\b\b\b\b\b\b\b\b\b\b\b\b\b\b\b\b\b\b\b\b\b\b\b\b\b\b\b\b\b\b\b\b\b\b##############                              (100%)\b\b\b\b\b\b\b\b\b\b\b\b\b\b\b\b\b\b\b\b\b\b\b\b\b\b\b\b\b\b\b\b\b\b\b\b\b\b\b\b\b\b\b\b\b\b\b\b\b\b###############                             (100%)\b\b\b\b\b\b\b\b\b\b\b\b\b\b\b\b\b\b\b\b\b\b\b\b\b\b\b\b\b\b\b\b\b\b\b\b\b\b\b\b\b\b\b\b\b\b\b\b\b\b################                            (100%)\b\b\b\b\b\b\b\b\b\b\b\b\b\b\b\b\b\b\b\b\b\b\b\b\b\b\b\b\b\b\b\b\b\b\b\b\b\b\b\b\b\b\b\b\b\b\b\b\b\b#################                           (100%)\b\b\b\b\b\b\b\b\b\b\b\b\b\b\b\b\b\b\b\b\b\b\b\b\b\b\b\b\b\b\b\b\b\b\b\b\b\b\b\b\b\b\b\b\b\b\b\b\b\b##################                          (100%)\b\b\b\b\b\b\b\b\b\b\b\b\b\b\b\b\b\b\b\b\b\b\b\b\b\b\b\b\b\b\b\b\b\b\b\b\b\b\b\b\b\b\b\b\b\b\b\b\b\b###################                         (100%)\b\b\b\b\b\b\b\b\b\b\b\b\b\b\b\b\b\b\b\b\b\b\b\b\b\b\b\b\b\b\b\b\b\b\b\b\b\b\b\b\b\b\b\b\b\b\b\b\b\b####################                        (100%)\b\b\b\b\b\b\b\b\b\b\b\b\b\b\b\b\b\b\b\b\b\b\b\b\b\b\b\b\b\b\b\b\b\b\b\b\b\b\b\b\b\b\b\b\b\b\b\b\b\b#####################                       (100%)\b\b\b\b\b\b\b\b\b\b\b\b\b\b\b\b\b\b\b\b\b\b\b\b\b\b\b\b\b\b\b\b\b\b\b\b\b\b\b\b\b\b\b\b\b\b\b\b\b\b######################                      (100%)\b\b\b\b\b\b\b\b\b\b\b\b\b\b\b\b\b\b\b\b\b\b\b\b\b\b\b\b\b\b\b\b\b\b\b\b\b\b\b\b\b\b\b\b\b\b\b\b\b\b#######################                     (100%)\b\b\b\b\b\b\b\b\b\b\b\b\b\b\b\b\b\b\b\b\b\b\b\b\b\b\b\b\b\b\b\b\b\b\b\b\b\b\b\b\b\b\b\b\b\b\b\b\b\b########################                    (100%)\b\b\b\b\b\b\b\b\b\b\b\b\b\b\b\b\b\b\b\b\b\b\b\b\b\b\b\b\b\b\b\b\b\b\b\b\b\b\b\b\b\b\b\b\b\b\b\b\b\b#########################                   (100%)\b\b\b\b\b\b\b\b\b\b\b\b\b\b\b\b\b\b\b\b\b\b\b\b\b\b\b\b\b\b\b\b\b\b\b\b\b\b\b\b\b\b\b\b\b\b\b\b\b\b##########################                  (100%)\b\b\b\b\b\b\b\b\b\b\b\b\b\b\b\b\b\b\b\b\b\b\b\b\b\b\b\b\b\b\b\b\b\b\b\b\b\b\b\b\b\b\b\b\b\b\b\b\b\b###########################                 (100%)\b\b\b\b\b\b\b\b\b\b\b\b\b\b\b\b\b\b\b\b\b\b\b\b\b\b\b\b\b\b\b\b\b\b\b\b\b\b\b\b\b\b\b\b\b\b\b\b\b\b############################                (100%)\b\b\b\b\b\b\b\b\b\b\b\b\b\b\b\b\b\b\b\b\b\b\b\b\b\b\b\b\b\b\b\b\b\b\b\b\b\b\b\b\b\b\b\b\b\b\b\b\b\b#############################               (100%)\b\b\b\b\b\b\b\b\b\b\b\b\b\b\b\b\b\b\b\b\b\b\b\b\b\b\b\b\b\b\b\b\b\b\b\b\b\b\b\b\b\b\b\b\b\b\b\b\b\b##############################              (100%)\b\b\b\b\b\b\b\b\b\b\b\b\b\b\b\b\b\b\b\b\b\b\b\b\b\b\b\b\b\b\b\b\b\b\b\b\b\b\b\b\b\b\b\b\b\b\b\b\b\b###############################             (100%)\b\b\b\b\b\b\b\b\b\b\b\b\b\b\b\b\b\b\b\b\b\b\b\b\b\b\b\b\b\b\b\b\b\b\b\b\b\b\b\b\b\b\b\b\b\b\b\b\b\b################################            (100%)\b\b\b\b\b\b\b\b\b\b\b\b\b\b\b\b\b\b\b\b\b\b\b\b\b\b\b\b\b\b\b\b\b\b\b\b\b\b\b\b\b\b\b\b\b\b\b\b\b\b#################################           (100%)\b\b\b\b\b\b\b\b\b\b\b\b\b\b\b\b\b\b\b\b\b\b\b\b\b\b\b\b\b\b\b\b\b\b\b\b\b\b\b\b\b\b\b\b\b\b\b\b\b\b##################################          (100%)\b\b\b\b\b\b\b\b\b\b\b\b\b\b\b\b\b\b\b\b\b\b\b\b\b\b\b\b\b\b\b\b\b\b\b\b\b\b\b\b\b\b\b\b\b\b\b\b\b\b###################################         (100%)\b\b\b\b\b\b\b\b\b\b\b\b\b\b\b\b\b\b\b\b\b\b\b\b\b\b\b\b\b\b\b\b\b\b\b\b\b\b\b\b\b\b\b\b\b\b\b\b\b\b####################################        (100%)\b\b\b\b\b\b\b\b\b\b\b\b\b\b\b\b\b\b\b\b\b\b\b\b\b\b\b\b\b\b\b\b\b\b\b\b\b\b\b\b\b\b\b\b\b\b\b\b\b\b#####################################       (100%)\b\b\b\b\b\b\b\b\b\b\b\b\b\b\b\b\b\b\b\b\b\b\b\b\b\b\b\b\b\b\b\b\b\b\b\b\b\b\b\b\b\b\b\b\b\b\b\b\b\b######################################      (100%)\b\b\b\b\b\b\b\b\b\b\b\b\b\b\b\b\b\b\b\b\b\b\b\b\b\b\b\b\b\b\b\b\b\b\b\b\b\b\b\b\b\b\b\b\b\b\b\b\b\b#######################################     (100%)\b\b\b\b\b\b\b\b\b\b\b\b\b\b\b\b\b\b\b\b\b\b\b\b\b\b\b\b\b\b\b\b\b\b\b\b\b\b\b\b\b\b\b\b\b\b\b\b\b\b########################################    (100%)\b\b\b\b\b\b\b\b\b\b\b\b\b\b\b\b\b\b\b\b\b\b\b\b\b\b\b\b\b\b\b\b\b\b\b\b\b\b\b\b\b\b\b\b\b\b\b\b\b\b#########################################   (100%)\b\b\b\b\b\b\b\b\b\b\b\b\b\b\b\b\b\b\b\b\b\b\b\b\b\b\b\b\b\b\b\b\b\b\b\b\b\b\b\b\b\b\b\b\b\b\b\b\b\b##########################################  (100%)\b\b\b\b\b\b\b\b\b\b\b\b\b\b\b\b\b\b\b\b\b\b\b\b\b\b\b\b\b\b\b\b\b\b\b\b\b\b\b\b\b\b\b\b\b\b\b\b\b\b########################################### (100%)\b\b\b\b\b\b\b\b\b\b\b\b\b\b\b\b\b\b\b\b\b\b\b\b\b\b\b\b\b\b\b\b\b\b\b\b\b\b\b\b\b\b\b\b\b\b\b\b\b\b########################################### [100%]\n",
      "   1:epel-release                                                       (  8%)\b\b\b\b\b\b\b\b\b\b\b\b\b\b\b\b\b\b\b\b\b\b\b\b\b\b\b\b\b\b\b\b\b\b\b\b\b\b\b\b\b\b\b\b\b\b\b\b\b\b#                                           (  8%)\b\b\b\b\b\b\b\b\b\b\b\b\b\b\b\b\b\b\b\b\b\b\b\b\b\b\b\b\b\b\b\b\b\b\b\b\b\b\b\b\b\b\b\b\b\b\b\b\b\b##                                          (  8%)\b\b\b\b\b\b\b\b\b\b\b\b\b\b\b\b\b\b\b\b\b\b\b\b\b\b\b\b\b\b\b\b\b\b\b\b\b\b\b\b\b\b\b\b\b\b\b\b\b\b###                                         (  9%)\b\b\b\b\b\b\b\b\b\b\b\b\b\b\b\b\b\b\b\b\b\b\b\b\b\b\b\b\b\b\b\b\b\b\b\b\b\b\b\b\b\b\b\b\b\b\b\b\b\b####                                        ( 14%)\b\b\b\b\b\b\b\b\b\b\b\b\b\b\b\b\b\b\b\b\b\b\b\b\b\b\b\b\b\b\b\b\b\b\b\b\b\b\b\b\b\b\b\b\b\b\b\b\b\b#####                                       ( 14%)\b\b\b\b\b\b\b\b\b\b\b\b\b\b\b\b\b\b\b\b\b\b\b\b\b\b\b\b\b\b\b\b\b\b\b\b\b\b\b\b\b\b\b\b\b\b\b\b\b\b######                                      ( 19%)\b\b\b\b\b\b\b\b\b\b\b\b\b\b\b\b\b\b\b\b\b\b\b\b\b\b\b\b\b\b\b\b\b\b\b\b\b\b\b\b\b\b\b\b\b\b\b\b\b\b#######                                     ( 19%)\b\b\b\b\b\b\b\b\b\b\b\b\b\b\b\b\b\b\b\b\b\b\b\b\b\b\b\b\b\b\b\b\b\b\b\b\b\b\b\b\b\b\b\b\b\b\b\b\b\b########                                    ( 19%)\b\b\b\b\b\b\b\b\b\b\b\b\b\b\b\b\b\b\b\b\b\b\b\b\b\b\b\b\b\b\b\b\b\b\b\b\b\b\b\b\b\b\b\b\b\b\b\b\b\b#########                                   ( 99%)\b\b\b\b\b\b\b\b\b\b\b\b\b\b\b\b\b\b\b\b\b\b\b\b\b\b\b\b\b\b\b\b\b\b\b\b\b\b\b\b\b\b\b\b\b\b\b\b\b\b##########                                  ( 99%)\b\b\b\b\b\b\b\b\b\b\b\b\b\b\b\b\b\b\b\b\b\b\b\b\b\b\b\b\b\b\b\b\b\b\b\b\b\b\b\b\b\b\b\b\b\b\b\b\b\b###########                                 ( 99%)\b\b\b\b\b\b\b\b\b\b\b\b\b\b\b\b\b\b\b\b\b\b\b\b\b\b\b\b\b\b\b\b\b\b\b\b\b\b\b\b\b\b\b\b\b\b\b\b\b\b############                                ( 99%)\b\b\b\b\b\b\b\b\b\b\b\b\b\b\b\b\b\b\b\b\b\b\b\b\b\b\b\b\b\b\b\b\b\b\b\b\b\b\b\b\b\b\b\b\b\b\b\b\b\b#############                               ( 99%)\b\b\b\b\b\b\b\b\b\b\b\b\b\b\b\b\b\b\b\b\b\b\b\b\b\b\b\b\b\b\b\b\b\b\b\b\b\b\b\b\b\b\b\b\b\b\b\b\b\b##############                              ( 99%)\b\b\b\b\b\b\b\b\b\b\b\b\b\b\b\b\b\b\b\b\b\b\b\b\b\b\b\b\b\b\b\b\b\b\b\b\b\b\b\b\b\b\b\b\b\b\b\b\b\b###############                             ( 99%)\b\b\b\b\b\b\b\b\b\b\b\b\b\b\b\b\b\b\b\b\b\b\b\b\b\b\b\b\b\b\b\b\b\b\b\b\b\b\b\b\b\b\b\b\b\b\b\b\b\b################                            ( 99%)\b\b\b\b\b\b\b\b\b\b\b\b\b\b\b\b\b\b\b\b\b\b\b\b\b\b\b\b\b\b\b\b\b\b\b\b\b\b\b\b\b\b\b\b\b\b\b\b\b\b#################                           ( 99%)\b\b\b\b\b\b\b\b\b\b\b\b\b\b\b\b\b\b\b\b\b\b\b\b\b\b\b\b\b\b\b\b\b\b\b\b\b\b\b\b\b\b\b\b\b\b\b\b\b\b##################                          ( 99%)\b\b\b\b\b\b\b\b\b\b\b\b\b\b\b\b\b\b\b\b\b\b\b\b\b\b\b\b\b\b\b\b\b\b\b\b\b\b\b\b\b\b\b\b\b\b\b\b\b\b###################                         ( 99%)\b\b\b\b\b\b\b\b\b\b\b\b\b\b\b\b\b\b\b\b\b\b\b\b\b\b\b\b\b\b\b\b\b\b\b\b\b\b\b\b\b\b\b\b\b\b\b\b\b\b####################                        ( 99%)\b\b\b\b\b\b\b\b\b\b\b\b\b\b\b\b\b\b\b\b\b\b\b\b\b\b\b\b\b\b\b\b\b\b\b\b\b\b\b\b\b\b\b\b\b\b\b\b\b\b#####################                       ( 99%)\b\b\b\b\b\b\b\b\b\b\b\b\b\b\b\b\b\b\b\b\b\b\b\b\b\b\b\b\b\b\b\b\b\b\b\b\b\b\b\b\b\b\b\b\b\b\b\b\b\b######################                      ( 99%)\b\b\b\b\b\b\b\b\b\b\b\b\b\b\b\b\b\b\b\b\b\b\b\b\b\b\b\b\b\b\b\b\b\b\b\b\b\b\b\b\b\b\b\b\b\b\b\b\b\b#######################                     ( 99%)\b\b\b\b\b\b\b\b\b\b\b\b\b\b\b\b\b\b\b\b\b\b\b\b\b\b\b\b\b\b\b\b\b\b\b\b\b\b\b\b\b\b\b\b\b\b\b\b\b\b########################                    ( 99%)\b\b\b\b\b\b\b\b\b\b\b\b\b\b\b\b\b\b\b\b\b\b\b\b\b\b\b\b\b\b\b\b\b\b\b\b\b\b\b\b\b\b\b\b\b\b\b\b\b\b#########################                   ( 99%)\b\b\b\b\b\b\b\b\b\b\b\b\b\b\b\b\b\b\b\b\b\b\b\b\b\b\b\b\b\b\b\b\b\b\b\b\b\b\b\b\b\b\b\b\b\b\b\b\b\b##########################                  ( 99%)\b\b\b\b\b\b\b\b\b\b\b\b\b\b\b\b\b\b\b\b\b\b\b\b\b\b\b\b\b\b\b\b\b\b\b\b\b\b\b\b\b\b\b\b\b\b\b\b\b\b###########################                 ( 99%)\b\b\b\b\b\b\b\b\b\b\b\b\b\b\b\b\b\b\b\b\b\b\b\b\b\b\b\b\b\b\b\b\b\b\b\b\b\b\b\b\b\b\b\b\b\b\b\b\b\b############################                ( 99%)\b\b\b\b\b\b\b\b\b\b\b\b\b\b\b\b\b\b\b\b\b\b\b\b\b\b\b\b\b\b\b\b\b\b\b\b\b\b\b\b\b\b\b\b\b\b\b\b\b\b#############################               ( 99%)\b\b\b\b\b\b\b\b\b\b\b\b\b\b\b\b\b\b\b\b\b\b\b\b\b\b\b\b\b\b\b\b\b\b\b\b\b\b\b\b\b\b\b\b\b\b\b\b\b\b##############################              ( 99%)\b\b\b\b\b\b\b\b\b\b\b\b\b\b\b\b\b\b\b\b\b\b\b\b\b\b\b\b\b\b\b\b\b\b\b\b\b\b\b\b\b\b\b\b\b\b\b\b\b\b###############################             ( 99%)\b\b\b\b\b\b\b\b\b\b\b\b\b\b\b\b\b\b\b\b\b\b\b\b\b\b\b\b\b\b\b\b\b\b\b\b\b\b\b\b\b\b\b\b\b\b\b\b\b\b################################            ( 99%)\b\b\b\b\b\b\b\b\b\b\b\b\b\b\b\b\b\b\b\b\b\b\b\b\b\b\b\b\b\b\b\b\b\b\b\b\b\b\b\b\b\b\b\b\b\b\b\b\b\b#################################           ( 99%)\b\b\b\b\b\b\b\b\b\b\b\b\b\b\b\b\b\b\b\b\b\b\b\b\b\b\b\b\b\b\b\b\b\b\b\b\b\b\b\b\b\b\b\b\b\b\b\b\b\b##################################          ( 99%)\b\b\b\b\b\b\b\b\b\b\b\b\b\b\b\b\b\b\b\b\b\b\b\b\b\b\b\b\b\b\b\b\b\b\b\b\b\b\b\b\b\b\b\b\b\b\b\b\b\b###################################         ( 99%)\b\b\b\b\b\b\b\b\b\b\b\b\b\b\b\b\b\b\b\b\b\b\b\b\b\b\b\b\b\b\b\b\b\b\b\b\b\b\b\b\b\b\b\b\b\b\b\b\b\b####################################        ( 99%)\b\b\b\b\b\b\b\b\b\b\b\b\b\b\b\b\b\b\b\b\b\b\b\b\b\b\b\b\b\b\b\b\b\b\b\b\b\b\b\b\b\b\b\b\b\b\b\b\b\b#####################################       ( 99%)\b\b\b\b\b\b\b\b\b\b\b\b\b\b\b\b\b\b\b\b\b\b\b\b\b\b\b\b\b\b\b\b\b\b\b\b\b\b\b\b\b\b\b\b\b\b\b\b\b\b######################################      ( 99%)\b\b\b\b\b\b\b\b\b\b\b\b\b\b\b\b\b\b\b\b\b\b\b\b\b\b\b\b\b\b\b\b\b\b\b\b\b\b\b\b\b\b\b\b\b\b\b\b\b\b#######################################     ( 99%)\b\b\b\b\b\b\b\b\b\b\b\b\b\b\b\b\b\b\b\b\b\b\b\b\b\b\b\b\b\b\b\b\b\b\b\b\b\b\b\b\b\b\b\b\b\b\b\b\b\b########################################    ( 99%)\b\b\b\b\b\b\b\b\b\b\b\b\b\b\b\b\b\b\b\b\b\b\b\b\b\b\b\b\b\b\b\b\b\b\b\b\b\b\b\b\b\b\b\b\b\b\b\b\b\b#########################################   ( 99%)\b\b\b\b\b\b\b\b\b\b\b\b\b\b\b\b\b\b\b\b\b\b\b\b\b\b\b\b\b\b\b\b\b\b\b\b\b\b\b\b\b\b\b\b\b\b\b\b\b\b##########################################  ( 99%)\b\b\b\b\b\b\b\b\b\b\b\b\b\b\b\b\b\b\b\b\b\b\b\b\b\b\b\b\b\b\b\b\b\b\b\b\b\b\b\b\b\b\b\b\b\b\b\b\b\b########################################### ( 99%)\b\b\b\b\b\b\b\b\b\b\b\b\b\b\b\b\b\b\b\b\b\b\b\b\b\b\b\b\b\b\b\b\b\b\b\b\b\b\b\b\b\b\b\b\b\b\b\b\b\b########################################### [100%]\n",
      "\u001b]0;@548f70d44cb2:/\u0007[root@548f70d44cb2 /]# yum uda\b \b\b \bpdate\n",
      "Loaded plugins: fastestmirror, ovl\n",
      "Setting up Update Process\n",
      "Determining fastest mirrors\n",
      "epel/metalink                                                                                                   |  10 kB     00:00     \n",
      " * base: centos-distro.1gservers.com\n",
      " * epel: dl.fedoraproject.org\n",
      " * extras: centos.eecs.wsu.edu\n",
      " * updates: mirror.atlantic.net\n",
      "epel                                                                                                            | 4.3 kB     00:00     \n",
      "epel/primary_db                                                                                                 | 5.9 MB     00:10     \n",
      "Resolving Dependencies\n",
      "--> Running transaction check\n",
      "---> Package bash.x86_64 0:4.1.2-40.el6 will be updated\n",
      "---> Package bash.x86_64 0:4.1.2-41.el6_8 will be an update\n",
      "---> Package bind-libs.x86_64 32:9.8.2-0.47.rc1.el6_8.2 will be updated\n",
      "---> Package bind-libs.x86_64 32:9.8.2-0.47.rc1.el6_8.4 will be an update\n",
      "---> Package bind-utils.x86_64 32:9.8.2-0.47.rc1.el6_8.2 will be updated\n",
      "---> Package bind-utils.x86_64 32:9.8.2-0.47.rc1.el6_8.4 will be an update\n",
      "---> Package db4.x86_64 0:4.7.25-20.el6_7 will be updated\n",
      "---> Package db4.x86_64 0:4.7.25-20.el6_8.1 will be an update\n",
      "---> Package db4-utils.x86_64 0:4.7.25-20.el6_7 will be updated\n",
      "---> Package db4-utils.x86_64 0:4.7.25-20.el6_8.1 will be an update\n",
      "---> Package expat.x86_64 0:2.0.1-11.el6_2 will be updated\n",
      "---> Package expat.x86_64 0:2.0.1-13.el6_8 will be an update\n",
      "---> Package libblkid.x86_64 0:2.17.2-12.24.el6 will be updated\n",
      "---> Package libblkid.x86_64 0:2.17.2-12.24.el6_8.3 will be an update\n",
      "---> Package libgcrypt.x86_64 0:1.4.5-11.el6_4 will be updated\n",
      "---> Package libgcrypt.x86_64 0:1.4.5-12.el6_8 will be an update\n",
      "---> Package libuuid.x86_64 0:2.17.2-12.24.el6 will be updated\n",
      "---> Package libuuid.x86_64 0:2.17.2-12.24.el6_8.3 will be an update\n",
      "---> Package nss.x86_64 0:3.21.0-8.el6 will be updated\n",
      "---> Package nss.x86_64 0:3.21.3-2.el6_8 will be an update\n",
      "---> Package nss-sysinit.x86_64 0:3.21.0-8.el6 will be updated\n",
      "---> Package nss-sysinit.x86_64 0:3.21.3-2.el6_8 will be an update\n",
      "---> Package nss-tools.x86_64 0:3.21.0-8.el6 will be updated\n",
      "---> Package nss-tools.x86_64 0:3.21.3-2.el6_8 will be an update\n",
      "---> Package nss-util.x86_64 0:3.21.0-2.el6 will be updated\n",
      "---> Package nss-util.x86_64 0:3.21.3-1.el6_8 will be an update\n",
      "---> Package openssl.x86_64 0:1.0.1e-48.el6_8.3 will be updated\n",
      "---> Package openssl.x86_64 0:1.0.1e-48.el6_8.4 will be an update\n",
      "---> Package tzdata.noarch 0:2016h-1.el6 will be updated\n",
      "---> Package tzdata.noarch 0:2017a-1.el6 will be an update\n",
      "---> Package vim-minimal.x86_64 2:7.4.629-5.el6 will be updated\n",
      "---> Package vim-minimal.x86_64 2:7.4.629-5.el6_8.1 will be an update\n",
      "--> Finished Dependency Resolution\n",
      "\n",
      "Dependencies Resolved\n",
      "\n",
      "=======================================================================================================================================\n",
      " Package                       Arch                     Version                                        Repository                 Size\n",
      "=======================================================================================================================================\n",
      "Updating:\n",
      " bash                          x86_64                   4.1.2-41.el6_8                                 updates                   909 k\n",
      " bind-libs                     x86_64                   32:9.8.2-0.47.rc1.el6_8.4                      updates                   890 k\n",
      " bind-utils                    x86_64                   32:9.8.2-0.47.rc1.el6_8.4                      updates                   187 k\n",
      " db4                           x86_64                   4.7.25-20.el6_8.1                              updates                   564 k\n",
      " db4-utils                     x86_64                   4.7.25-20.el6_8.1                              updates                   130 k\n",
      " expat                         x86_64                   2.0.1-13.el6_8                                 updates                    77 k\n",
      " libblkid                      x86_64                   2.17.2-12.24.el6_8.3                           updates                   118 k\n",
      " libgcrypt                     x86_64                   1.4.5-12.el6_8                                 updates                   229 k\n",
      " libuuid                       x86_64                   2.17.2-12.24.el6_8.3                           updates                    71 k\n",
      " nss                           x86_64                   3.21.3-2.el6_8                                 updates                   859 k\n",
      " nss-sysinit                   x86_64                   3.21.3-2.el6_8                                 updates                    47 k\n",
      " nss-tools                     x86_64                   3.21.3-2.el6_8                                 updates                   437 k\n",
      " nss-util                      x86_64                   3.21.3-1.el6_8                                 updates                    67 k\n",
      " openssl                       x86_64                   1.0.1e-48.el6_8.4                              updates                   1.5 M\n",
      " tzdata                        noarch                   2017a-1.el6                                    updates                   455 k\n",
      " vim-minimal                   x86_64                   2:7.4.629-5.el6_8.1                            updates                   422 k\n",
      "\n",
      "Transaction Summary\n",
      "=======================================================================================================================================\n",
      "Upgrade      16 Package(s)\n",
      "\n",
      "Total download size: 6.9 M\n",
      "Is this ok [y/N]: y\n",
      "Downloading Packages:\n",
      "(1/16): bash-4.1.2-41.el6_8.x86_64.rpm                                                                          | 909 kB     00:02     \n",
      "(2/16): bind-libs-9.8.2-0.47.rc1.el6_8.4.x86_64.rpm                                                             | 890 kB     00:01     \n",
      "(3/16): bind-utils-9.8.2-0.47.rc1.el6_8.4.x86_64.rpm                                                            | 187 kB     00:00     \n",
      "(4/16): db4-4.7.25-20.el6_8.1.x86_64.rpm                                                                        | 564 kB     00:01     \n",
      "(5/16): db4-utils-4.7.25-20.el6_8.1.x86_64.rpm                                                                  | 130 kB     00:00     \n",
      "(6/16): expat-2.0.1-13.el6_8.x86_64.rpm                                                                         |  77 kB     00:00     \n",
      "(7/16): libblkid-2.17.2-12.24.el6_8.3.x86_64.rpm                                                                | 118 kB     00:00     \n",
      "(8/16): libgcrypt-1.4.5-12.el6_8.x86_64.rpm                                                                     | 229 kB     00:00     \n",
      "(9/16): libuuid-2.17.2-12.24.el6_8.3.x86_64.rpm                                                                 |  71 kB     00:00     \n",
      "(10/16): nss-3.21.3-2.el6_8.x86_64.rpm                                                                          | 859 kB     00:02     \n",
      "(11/16): nss-sysinit-3.21.3-2.el6_8.x86_64.rpm                                                                  |  47 kB     00:00     \n",
      "(12/16): nss-tools-3.21.3-2.el6_8.x86_64.rpm                                                                    | 437 kB     00:01     \n",
      "(13/16): nss-util-3.21.3-1.el6_8.x86_64.rpm                                                                     |  67 kB     00:00     \n",
      "(14/16): openssl-1.0.1e-48.el6_8.4.x86_64.rpm                                                                   | 1.5 MB     00:04     \n",
      "(15/16): tzdata-2017a-1.el6.noarch.rpm                                                                          | 455 kB     00:01     \n",
      "(16/16): vim-minimal-7.4.629-5.el6_8.1.x86_64.rpm                                                               | 422 kB     00:00     \n",
      "---------------------------------------------------------------------------------------------------------------------------------------\n",
      "Total                                                                                                  371 kB/s | 6.9 MB     00:18     \n",
      "Running rpm_check_debug\n",
      "Running Transaction Test\n",
      "Transaction Test Succeeded\n",
      "Running Transaction\n",
      "Warning: RPMDB altered outside of yum.\n",
      "  Updating   : bash-4.1.2-41.el6_8.x86_64                                                                                         1/32 \n",
      "  Updating   : nss-util-3.21.3-1.el6_8.x86_64                                                                                     2/32 \n",
      "  Updating   : nss-3.21.3-2.el6_8.x86_64                                                                                          3/32 \n",
      "  Updating   : nss-sysinit-3.21.3-2.el6_8.x86_64                                                                                  4/32 \n",
      "  Updating   : openssl-1.0.1e-48.el6_8.4.x86_64                                                                                   5/32 \n",
      "  Updating   : 32:bind-libs-9.8.2-0.47.rc1.el6_8.4.x86_64                                                                         6/32 \n",
      "  Updating   : db4-4.7.25-20.el6_8.1.x86_64                                                                                       7/32 \n",
      "  Updating   : libuuid-2.17.2-12.24.el6_8.3.x86_64                                                                                8/32 \n",
      "  Updating   : libblkid-2.17.2-12.24.el6_8.3.x86_64                                                                               9/32 \n",
      "  Updating   : db4-utils-4.7.25-20.el6_8.1.x86_64                                                                                10/32 \n",
      "  Updating   : 32:bind-utils-9.8.2-0.47.rc1.el6_8.4.x86_64                                                                       11/32 \n",
      "  Updating   : nss-tools-3.21.3-2.el6_8.x86_64                                                                                   12/32 \n",
      "  Updating   : 2:vim-minimal-7.4.629-5.el6_8.1.x86_64                                                                            13/32 \n",
      "  Updating   : libgcrypt-1.4.5-12.el6_8.x86_64                                                                                   14/32 \n",
      "  Updating   : expat-2.0.1-13.el6_8.x86_64                                                                                       15/32 \n",
      "  Updating   : tzdata-2017a-1.el6.noarch                                                                                         16/32 \n",
      "  Cleanup    : nss-tools-3.21.0-8.el6.x86_64                                                                                     17/32 \n",
      "  Cleanup    : nss-sysinit-3.21.0-8.el6.x86_64                                                                                   18/32 \n",
      "  Cleanup    : nss-3.21.0-8.el6.x86_64                                                                                           19/32 \n",
      "  Cleanup    : 32:bind-utils-9.8.2-0.47.rc1.el6_8.2.x86_64                                                                       20/32 \n",
      "  Cleanup    : 32:bind-libs-9.8.2-0.47.rc1.el6_8.2.x86_64                                                                        21/32 \n",
      "  Cleanup    : libblkid-2.17.2-12.24.el6.x86_64                                                                                  22/32 \n",
      "  Cleanup    : tzdata-2016h-1.el6.noarch                                                                                         23/32 \n",
      "  Cleanup    : openssl-1.0.1e-48.el6_8.3.x86_64                                                                                  24/32 \n",
      "  Cleanup    : db4-utils-4.7.25-20.el6_7.x86_64                                                                                  25/32 \n",
      "  Cleanup    : db4-4.7.25-20.el6_7.x86_64                                                                                        26/32 \n",
      "  Cleanup    : bash-4.1.2-40.el6.x86_64                                                                                          27/32 \n",
      "  Cleanup    : libuuid-2.17.2-12.24.el6.x86_64                                                                                   28/32 \n",
      "  Cleanup    : nss-util-3.21.0-2.el6.x86_64                                                                                      29/32 \n",
      "  Cleanup    : 2:vim-minimal-7.4.629-5.el6.x86_64                                                                                30/32 \n",
      "  Cleanup    : libgcrypt-1.4.5-11.el6_4.x86_64                                                                                   31/32 \n",
      "  Cleanup    : expat-2.0.1-11.el6_2.x86_64                                                                                       32/32 \n",
      "  Verifying  : libblkid-2.17.2-12.24.el6_8.3.x86_64                                                                               1/32 \n",
      "  Verifying  : tzdata-2017a-1.el6.noarch                                                                                          2/32 \n",
      "  Verifying  : expat-2.0.1-13.el6_8.x86_64                                                                                        3/32 \n",
      "  Verifying  : 32:bind-libs-9.8.2-0.47.rc1.el6_8.4.x86_64                                                                         4/32 \n",
      "  Verifying  : nss-util-3.21.3-1.el6_8.x86_64                                                                                     5/32 \n",
      "  Verifying  : libuuid-2.17.2-12.24.el6_8.3.x86_64                                                                                6/32 \n",
      "  Verifying  : 32:bind-utils-9.8.2-0.47.rc1.el6_8.4.x86_64                                                                        7/32 \n",
      "  Verifying  : nss-3.21.3-2.el6_8.x86_64                                                                                          8/32 \n",
      "  Verifying  : libgcrypt-1.4.5-12.el6_8.x86_64                                                                                    9/32 \n",
      "  Verifying  : db4-4.7.25-20.el6_8.1.x86_64                                                                                      10/32 \n",
      "  Verifying  : db4-utils-4.7.25-20.el6_8.1.x86_64                                                                                11/32 \n",
      "  Verifying  : openssl-1.0.1e-48.el6_8.4.x86_64                                                                                  12/32 \n",
      "  Verifying  : bash-4.1.2-41.el6_8.x86_64                                                                                        13/32 \n",
      "  Verifying  : nss-sysinit-3.21.3-2.el6_8.x86_64                                                                                 14/32 \n",
      "  Verifying  : nss-tools-3.21.3-2.el6_8.x86_64                                                                                   15/32 \n",
      "  Verifying  : 2:vim-minimal-7.4.629-5.el6_8.1.x86_64                                                                            16/32 \n",
      "  Verifying  : bash-4.1.2-40.el6.x86_64                                                                                          17/32 \n",
      "  Verifying  : nss-3.21.0-8.el6.x86_64                                                                                           18/32 \n",
      "  Verifying  : libuuid-2.17.2-12.24.el6.x86_64                                                                                   19/32 \n",
      "  Verifying  : db4-utils-4.7.25-20.el6_7.x86_64                                                                                  20/32 \n",
      "  Verifying  : libgcrypt-1.4.5-11.el6_4.x86_64                                                                                   21/32 \n",
      "  Verifying  : nss-sysinit-3.21.0-8.el6.x86_64                                                                                   22/32 \n",
      "  Verifying  : expat-2.0.1-11.el6_2.x86_64                                                                                       23/32 \n",
      "  Verifying  : nss-tools-3.21.0-8.el6.x86_64                                                                                     24/32 \n",
      "  Verifying  : nss-util-3.21.0-2.el6.x86_64                                                                                      25/32 \n",
      "  Verifying  : 2:vim-minimal-7.4.629-5.el6.x86_64                                                                                26/32 \n",
      "  Verifying  : tzdata-2016h-1.el6.noarch                                                                                         27/32 \n",
      "  Verifying  : openssl-1.0.1e-48.el6_8.3.x86_64                                                                                  28/32 \n",
      "  Verifying  : db4-4.7.25-20.el6_7.x86_64                                                                                        29/32 \n",
      "  Verifying  : 32:bind-utils-9.8.2-0.47.rc1.el6_8.2.x86_64                                                                       30/32 \n",
      "  Verifying  : 32:bind-libs-9.8.2-0.47.rc1.el6_8.2.x86_64                                                                        31/32 \n",
      "  Verifying  : libblkid-2.17.2-12.24.el6.x86_64                                                                                  32/32 \n",
      "\n",
      "Updated:\n",
      "  bash.x86_64 0:4.1.2-41.el6_8             bind-libs.x86_64 32:9.8.2-0.47.rc1.el6_8.4   bind-utils.x86_64 32:9.8.2-0.47.rc1.el6_8.4  \n",
      "  db4.x86_64 0:4.7.25-20.el6_8.1           db4-utils.x86_64 0:4.7.25-20.el6_8.1         expat.x86_64 0:2.0.1-13.el6_8                \n",
      "  libblkid.x86_64 0:2.17.2-12.24.el6_8.3   libgcrypt.x86_64 0:1.4.5-12.el6_8            libuuid.x86_64 0:2.17.2-12.24.el6_8.3        \n",
      "  nss.x86_64 0:3.21.3-2.el6_8              nss-sysinit.x86_64 0:3.21.3-2.el6_8          nss-tools.x86_64 0:3.21.3-2.el6_8            \n",
      "  nss-util.x86_64 0:3.21.3-1.el6_8         openssl.x86_64 0:1.0.1e-48.el6_8.4           tzdata.noarch 0:2017a-1.el6                  \n",
      "  vim-minimal.x86_64 2:7.4.629-5.el6_8.1  \n",
      "\n",
      "Complete!\n",
      "\u001b]0;@548f70d44cb2:/\u0007[root@548f70d44cb2 /]# u\b \byum install which sudo httpd php open-ssh\b \b\b \b\b \b\b \bssh-server -y\n",
      "Loaded plugins: fastestmirror, ovl\n",
      "Setting up Install Process\n",
      "Loading mirror speeds from cached hostfile\n",
      " * base: centos-distro.1gservers.com\n",
      " * epel: dl.fedoraproject.org\n",
      " * extras: centos.eecs.wsu.edu\n",
      " * updates: mirror.atlantic.net\n",
      "Package which-2.19-6.el6.x86_64 already installed and latest version\n",
      "Resolving Dependencies\n",
      "--> Running transaction check\n",
      "---> Package httpd.x86_64 0:2.2.15-56.el6.centos.3 will be installed\n",
      "--> Processing Dependency: httpd-tools = 2.2.15-56.el6.centos.3 for package: httpd-2.2.15-56.el6.centos.3.x86_64\n",
      "--> Processing Dependency: system-logos >= 7.92.1-1 for package: httpd-2.2.15-56.el6.centos.3.x86_64\n",
      "--> Processing Dependency: initscripts >= 8.36 for package: httpd-2.2.15-56.el6.centos.3.x86_64\n",
      "--> Processing Dependency: apr-util-ldap for package: httpd-2.2.15-56.el6.centos.3.x86_64\n",
      "--> Processing Dependency: /etc/mime.types for package: httpd-2.2.15-56.el6.centos.3.x86_64\n",
      "--> Processing Dependency: libaprutil-1.so.0()(64bit) for package: httpd-2.2.15-56.el6.centos.3.x86_64\n",
      "--> Processing Dependency: libapr-1.so.0()(64bit) for package: httpd-2.2.15-56.el6.centos.3.x86_64\n",
      "---> Package openssh-server.x86_64 0:5.3p1-118.1.el6_8 will be installed\n",
      "--> Processing Dependency: openssh = 5.3p1-118.1.el6_8 for package: openssh-server-5.3p1-118.1.el6_8.x86_64\n",
      "--> Processing Dependency: libwrap.so.0()(64bit) for package: openssh-server-5.3p1-118.1.el6_8.x86_64\n",
      "--> Processing Dependency: libfipscheck.so.1()(64bit) for package: openssh-server-5.3p1-118.1.el6_8.x86_64\n",
      "---> Package php.x86_64 0:5.3.3-48.el6_8 will be installed\n",
      "--> Processing Dependency: php-common(x86-64) = 5.3.3-48.el6_8 for package: php-5.3.3-48.el6_8.x86_64\n",
      "--> Processing Dependency: php-cli(x86-64) = 5.3.3-48.el6_8 for package: php-5.3.3-48.el6_8.x86_64\n",
      "---> Package sudo.x86_64 0:1.8.6p3-25.el6_8 will be installed\n",
      "--> Running transaction check\n",
      "---> Package apr.x86_64 0:1.3.9-5.el6_2 will be installed\n",
      "---> Package apr-util.x86_64 0:1.3.9-3.el6_0.1 will be installed\n",
      "---> Package apr-util-ldap.x86_64 0:1.3.9-3.el6_0.1 will be installed\n",
      "---> Package fipscheck-lib.x86_64 0:1.2.0-7.el6 will be installed\n",
      "--> Processing Dependency: /usr/bin/fipscheck for package: fipscheck-lib-1.2.0-7.el6.x86_64\n",
      "---> Package httpd-tools.x86_64 0:2.2.15-56.el6.centos.3 will be installed\n",
      "---> Package initscripts.x86_64 0:9.03.53-1.el6.centos.2 will be installed\n",
      "--> Processing Dependency: util-linux-ng >= 2.16 for package: initscripts-9.03.53-1.el6.centos.2.x86_64\n",
      "--> Processing Dependency: udev >= 125-1 for package: initscripts-9.03.53-1.el6.centos.2.x86_64\n",
      "--> Processing Dependency: sysvinit-tools >= 2.87-6 for package: initscripts-9.03.53-1.el6.centos.2.x86_64\n",
      "--> Processing Dependency: plymouth for package: initscripts-9.03.53-1.el6.centos.2.x86_64\n",
      "--> Processing Dependency: /sbin/pidof for package: initscripts-9.03.53-1.el6.centos.2.x86_64\n",
      "--> Processing Dependency: /sbin/ip for package: initscripts-9.03.53-1.el6.centos.2.x86_64\n",
      "--> Processing Dependency: /sbin/blkid for package: initscripts-9.03.53-1.el6.centos.2.x86_64\n",
      "--> Processing Dependency: /sbin/arping for package: initscripts-9.03.53-1.el6.centos.2.x86_64\n",
      "---> Package mailcap.noarch 0:2.1.31-2.el6 will be installed\n",
      "---> Package openssh.x86_64 0:5.3p1-118.1.el6_8 will be installed\n",
      "---> Package php-cli.x86_64 0:5.3.3-48.el6_8 will be installed\n",
      "--> Processing Dependency: libedit.so.0()(64bit) for package: php-cli-5.3.3-48.el6_8.x86_64\n",
      "---> Package php-common.x86_64 0:5.3.3-48.el6_8 will be installed\n",
      "---> Package redhat-logos.noarch 0:60.0.14-12.el6.centos will be installed\n",
      "---> Package tcp_wrappers-libs.x86_64 0:7.6-58.el6 will be installed\n",
      "--> Running transaction check\n",
      "---> Package fipscheck.x86_64 0:1.2.0-7.el6 will be installed\n",
      "---> Package iproute.x86_64 0:2.6.32-54.el6 will be installed\n",
      "--> Processing Dependency: iptables >= 1.4.5 for package: iproute-2.6.32-54.el6.x86_64\n",
      "--> Processing Dependency: libxtables.so.4()(64bit) for package: iproute-2.6.32-54.el6.x86_64\n",
      "---> Package iputils.x86_64 0:20071127-21.el6 will be installed\n",
      "---> Package libedit.x86_64 0:2.11-4.20080712cvs.1.el6 will be installed\n",
      "---> Package plymouth.x86_64 0:0.8.3-27.el6.centos.1 will be installed\n",
      "--> Processing Dependency: libdrm_radeon.so.1()(64bit) for package: plymouth-0.8.3-27.el6.centos.1.x86_64\n",
      "--> Processing Dependency: libdrm_nouveau.so.1()(64bit) for package: plymouth-0.8.3-27.el6.centos.1.x86_64\n",
      "--> Processing Dependency: libdrm_intel.so.1()(64bit) for package: plymouth-0.8.3-27.el6.centos.1.x86_64\n",
      "--> Processing Dependency: libdrm.so.2()(64bit) for package: plymouth-0.8.3-27.el6.centos.1.x86_64\n",
      "---> Package sysvinit-tools.x86_64 0:2.87-6.dsf.el6 will be installed\n",
      "---> Package udev.x86_64 0:147-2.73.el6_8.2 will be installed\n",
      "--> Processing Dependency: hwdata for package: udev-147-2.73.el6_8.2.x86_64\n",
      "---> Package util-linux-ng.x86_64 0:2.17.2-12.24.el6_8.3 will be installed\n",
      "--> Running transaction check\n",
      "---> Package hwdata.noarch 0:0.233-16.1.el6 will be installed\n",
      "---> Package iptables.x86_64 0:1.4.7-16.el6 will be installed\n",
      "--> Processing Dependency: policycoreutils for package: iptables-1.4.7-16.el6.x86_64\n",
      "---> Package libdrm.x86_64 0:2.4.65-2.el6 will be installed\n",
      "--> Processing Dependency: libpciaccess.so.0()(64bit) for package: libdrm-2.4.65-2.el6.x86_64\n",
      "--> Running transaction check\n",
      "---> Package libpciaccess.x86_64 0:0.13.4-1.el6 will be installed\n",
      "---> Package policycoreutils.x86_64 0:2.0.83-30.1.el6_8 will be installed\n",
      "--> Processing Dependency: libdbus-glib-1.so.2()(64bit) for package: policycoreutils-2.0.83-30.1.el6_8.x86_64\n",
      "--> Running transaction check\n",
      "---> Package dbus-glib.x86_64 0:0.86-6.el6 will be installed\n",
      "--> Finished Dependency Resolution\n",
      "\n",
      "Dependencies Resolved\n",
      "\n",
      "=======================================================================================================================================\n",
      " Package                            Arch                    Version                                     Repository                Size\n",
      "=======================================================================================================================================\n",
      "Installing:\n",
      " httpd                              x86_64                  2.2.15-56.el6.centos.3                      updates                  834 k\n",
      " openssh-server                     x86_64                  5.3p1-118.1.el6_8                           updates                  328 k\n",
      " php                                x86_64                  5.3.3-48.el6_8                              updates                  1.1 M\n",
      " sudo                               x86_64                  1.8.6p3-25.el6_8                            updates                  710 k\n",
      "Installing for dependencies:\n",
      " apr                                x86_64                  1.3.9-5.el6_2                               base                     123 k\n",
      " apr-util                           x86_64                  1.3.9-3.el6_0.1                             base                      87 k\n",
      " apr-util-ldap                      x86_64                  1.3.9-3.el6_0.1                             base                      15 k\n",
      " dbus-glib                          x86_64                  0.86-6.el6                                  base                     170 k\n",
      " fipscheck                          x86_64                  1.2.0-7.el6                                 base                      14 k\n",
      " fipscheck-lib                      x86_64                  1.2.0-7.el6                                 base                     8.3 k\n",
      " httpd-tools                        x86_64                  2.2.15-56.el6.centos.3                      updates                   79 k\n",
      " hwdata                             noarch                  0.233-16.1.el6                              base                     1.3 M\n",
      " initscripts                        x86_64                  9.03.53-1.el6.centos.2                      updates                  947 k\n",
      " iproute                            x86_64                  2.6.32-54.el6                               base                     389 k\n",
      " iptables                           x86_64                  1.4.7-16.el6                                base                     254 k\n",
      " iputils                            x86_64                  20071127-21.el6                             base                     120 k\n",
      " libdrm                             x86_64                  2.4.65-2.el6                                base                     136 k\n",
      " libedit                            x86_64                  2.11-4.20080712cvs.1.el6                    base                      74 k\n",
      " libpciaccess                       x86_64                  0.13.4-1.el6                                base                      24 k\n",
      " mailcap                            noarch                  2.1.31-2.el6                                base                      27 k\n",
      " openssh                            x86_64                  5.3p1-118.1.el6_8                           updates                  276 k\n",
      " php-cli                            x86_64                  5.3.3-48.el6_8                              updates                  2.2 M\n",
      " php-common                         x86_64                  5.3.3-48.el6_8                              updates                  530 k\n",
      " plymouth                           x86_64                  0.8.3-27.el6.centos.1                       base                      89 k\n",
      " policycoreutils                    x86_64                  2.0.83-30.1.el6_8                           updates                  663 k\n",
      " redhat-logos                       noarch                  60.0.14-12.el6.centos                       base                      15 M\n",
      " sysvinit-tools                     x86_64                  2.87-6.dsf.el6                              base                      60 k\n",
      " tcp_wrappers-libs                  x86_64                  7.6-58.el6                                  base                      62 k\n",
      " udev                               x86_64                  147-2.73.el6_8.2                            updates                  358 k\n",
      " util-linux-ng                      x86_64                  2.17.2-12.24.el6_8.3                        updates                  1.6 M\n",
      "\n",
      "Transaction Summary\n",
      "=======================================================================================================================================\n",
      "Install      30 Package(s)\n",
      "\n",
      "Total download size: 27 M\n",
      "Installed size: 60 M\n",
      "Downloading Packages:\n",
      "(1/30): apr-1.3.9-5.el6_2.x86_64.rpm                                                                            | 123 kB     00:00     \n",
      "(2/30): apr-util-1.3.9-3.el6_0.1.x86_64.rpm                                                                     |  87 kB     00:00     \n",
      "(3/30): apr-util-ldap-1.3.9-3.el6_0.1.x86_64.rpm                                                                |  15 kB     00:00     \n",
      "(4/30): dbus-glib-0.86-6.el6.x86_64.rpm                                                                         | 170 kB     00:00     \n",
      "(5/30): fipscheck-1.2.0-7.el6.x86_64.rpm                                                                        |  14 kB     00:00     \n",
      "(6/30): fipscheck-lib-1.2.0-7.el6.x86_64.rpm                                                                    | 8.3 kB     00:00     \n",
      "(7/30): httpd-2.2.15-56.el6.centos.3.x86_64.rpm                                                                 | 834 kB     00:03     \n",
      "(8/30): httpd-tools-2.2.15-56.el6.centos.3.x86_64.rpm                                                           |  79 kB     00:00     \n",
      "(9/30): hwdata-0.233-16.1.el6.noarch.rpm                                                                        | 1.3 MB     00:01     \n",
      "(10/30): initscripts-9.03.53-1.el6.centos.2.x86_64.rpm                                                          | 947 kB     00:02     \n",
      "(11/30): iproute-2.6.32-54.el6.x86_64.rpm                                                                       | 389 kB     00:01     \n",
      "(12/30): iptables-1.4.7-16.el6.x86_64.rpm                                                                       | 254 kB     00:03     \n",
      "(13/30): iputils-20071127-21.el6.x86_64.rpm                                                                     | 120 kB     00:00     \n",
      "(14/30): libdrm-2.4.65-2.el6.x86_64.rpm                                                                         | 136 kB     00:01     \n",
      "(15/30): libedit-2.11-4.20080712cvs.1.el6.x86_64.rpm                                                            |  74 kB     00:00     \n",
      "(16/30): libpciaccess-0.13.4-1.el6.x86_64.rpm                                                                   |  24 kB     00:00     \n",
      "(17/30): mailcap-2.1.31-2.el6.noarch.rpm                                                                        |  27 kB     00:00     \n",
      "(18/30): openssh-5.3p1-118.1.el6_8.x86_64.rpm                                                                   | 276 kB     00:03     \n",
      "(19/30): openssh-server-5.3p1-118.1.el6_8.x86_64.rpm                                                            | 328 kB     00:02     \n",
      "(20/30): php-5.3.3-48.el6_8.x86_64.rpm                                                                          | 1.1 MB     00:07     \n",
      "(21/30): php-cli-5.3.3-48.el6_8.x86_64.rpm                                                                      | 2.2 MB     00:11     \n",
      "(22/30): php-common-5.3.3-48.el6_8.x86_64.rpm                                                                   | 530 kB     00:01     \n",
      "(23/30): plymouth-0.8.3-27.el6.centos.1.x86_64.rpm                                                              |  89 kB     00:00     \n",
      "(24/30): policycoreutils-2.0.83-30.1.el6_8.x86_64.rpm                                                           | 663 kB     00:01     \n",
      "(25/30): redhat-logos-60.0.14-12.el6.centos.noarch.rpm                                                          |  15 MB     00:24     \n",
      "(26/30): sudo-1.8.6p3-25.el6_8.x86_64.rpm                                                                       | 710 kB     00:03     \n",
      "(27/30): sysvinit-tools-2.87-6.dsf.el6.x86_64.rpm                                                               |  60 kB     00:00     \n",
      "(28/30): tcp_wrappers-libs-7.6-58.el6.x86_64.rpm                                                                |  62 kB     00:00     \n",
      "(29/30): udev-147-2.73.el6_8.2.x86_64.rpm                                                                       | 358 kB     00:01     \n",
      "(30/30): util-linux-ng-2.17.2-12.24.el6_8.3.x86_64.rpm                                                          | 1.6 MB     00:02     \n",
      "---------------------------------------------------------------------------------------------------------------------------------------\n",
      "Total                                                                                                  313 kB/s |  27 MB     01:27     \n",
      "Running rpm_check_debug\n",
      "Running Transaction Test\n",
      "Transaction Test Succeeded\n",
      "Running Transaction\n",
      "  Installing : apr-1.3.9-5.el6_2.x86_64                                                                                           1/30 \n",
      "  Installing : apr-util-1.3.9-3.el6_0.1.x86_64                                                                                    2/30 \n",
      "  Installing : hwdata-0.233-16.1.el6.noarch                                                                                       3/30 \n",
      "  Installing : php-common-5.3.3-48.el6_8.x86_64                                                                                   4/30 \n",
      "  Installing : sysvinit-tools-2.87-6.dsf.el6.x86_64                                                                               5/30 \n",
      "  Installing : redhat-logos-60.0.14-12.el6.centos.noarch                                                                          6/30 \n",
      "  Installing : libpciaccess-0.13.4-1.el6.x86_64                                                                                   7/30 \n",
      "  Installing : apr-util-ldap-1.3.9-3.el6_0.1.x86_64                                                                               8/30 \n",
      "  Installing : httpd-tools-2.2.15-56.el6.centos.3.x86_64                                                                          9/30 \n",
      "  Installing : fipscheck-lib-1.2.0-7.el6.x86_64                                                                                  10/30 \n",
      "  Installing : fipscheck-1.2.0-7.el6.x86_64                                                                                      11/30 \n",
      "  Installing : libedit-2.11-4.20080712cvs.1.el6.x86_64                                                                           12/30 \n",
      "  Installing : php-cli-5.3.3-48.el6_8.x86_64                                                                                     13/30 \n",
      "  Installing : tcp_wrappers-libs-7.6-58.el6.x86_64                                                                               14/30 \n",
      "  Installing : mailcap-2.1.31-2.el6.noarch                                                                                       15/30 \n",
      "  Installing : dbus-glib-0.86-6.el6.x86_64                                                                                       16/30 \n",
      "  Installing : policycoreutils-2.0.83-30.1.el6_8.x86_64                                                                          17/30 \n",
      "  Installing : iptables-1.4.7-16.el6.x86_64                                                                                      18/30 \n",
      "  Installing : iproute-2.6.32-54.el6.x86_64                                                                                      19/30 \n",
      "  Installing : libdrm-2.4.65-2.el6.x86_64                                                                                        20/30 \n",
      "  Installing : iputils-20071127-21.el6.x86_64                                                                                    21/30 \n",
      "  Installing : plymouth-0.8.3-27.el6.centos.1.x86_64                                                                             22/30 \n",
      "  Installing : initscripts-9.03.53-1.el6.centos.2.x86_64                                                                         23/30 \n",
      "  Installing : util-linux-ng-2.17.2-12.24.el6_8.3.x86_64                                                                         24/30 \n",
      "install-info: No such file or directory for /usr/share/info/ipc.info\n",
      "  Installing : udev-147-2.73.el6_8.2.x86_64                                                                                      25/30 \n",
      "  Installing : openssh-5.3p1-118.1.el6_8.x86_64                                                                                  26/30 \n",
      "  Installing : httpd-2.2.15-56.el6.centos.3.x86_64                                                                               27/30 \n",
      "  Installing : php-5.3.3-48.el6_8.x86_64                                                                                         28/30 \n",
      "  Installing : openssh-server-5.3p1-118.1.el6_8.x86_64                                                                           29/30 \n",
      "  Installing : sudo-1.8.6p3-25.el6_8.x86_64                                                                                      30/30 \n",
      "  Verifying  : fipscheck-1.2.0-7.el6.x86_64                                                                                       1/30 \n",
      "  Verifying  : udev-147-2.73.el6_8.2.x86_64                                                                                       2/30 \n",
      "  Verifying  : iputils-20071127-21.el6.x86_64                                                                                     3/30 \n",
      "  Verifying  : php-cli-5.3.3-48.el6_8.x86_64                                                                                      4/30 \n",
      "  Verifying  : apr-util-ldap-1.3.9-3.el6_0.1.x86_64                                                                               5/30 \n",
      "  Verifying  : libpciaccess-0.13.4-1.el6.x86_64                                                                                   6/30 \n",
      "  Verifying  : openssh-5.3p1-118.1.el6_8.x86_64                                                                                   7/30 \n",
      "  Verifying  : httpd-2.2.15-56.el6.centos.3.x86_64                                                                                8/30 \n",
      "  Verifying  : iproute-2.6.32-54.el6.x86_64                                                                                       9/30 \n",
      "  Verifying  : httpd-tools-2.2.15-56.el6.centos.3.x86_64                                                                         10/30 \n",
      "  Verifying  : dbus-glib-0.86-6.el6.x86_64                                                                                       11/30 \n",
      "  Verifying  : apr-util-1.3.9-3.el6_0.1.x86_64                                                                                   12/30 \n",
      "  Verifying  : fipscheck-lib-1.2.0-7.el6.x86_64                                                                                  13/30 \n",
      "  Verifying  : php-5.3.3-48.el6_8.x86_64                                                                                         14/30 \n",
      "  Verifying  : openssh-server-5.3p1-118.1.el6_8.x86_64                                                                           15/30 \n",
      "  Verifying  : initscripts-9.03.53-1.el6.centos.2.x86_64                                                                         16/30 \n",
      "  Verifying  : apr-1.3.9-5.el6_2.x86_64                                                                                          17/30 \n",
      "  Verifying  : redhat-logos-60.0.14-12.el6.centos.noarch                                                                         18/30 \n",
      "  Verifying  : mailcap-2.1.31-2.el6.noarch                                                                                       19/30 \n",
      "  Verifying  : tcp_wrappers-libs-7.6-58.el6.x86_64                                                                               20/30 \n",
      "  Verifying  : plymouth-0.8.3-27.el6.centos.1.x86_64                                                                             21/30 \n",
      "  Verifying  : libedit-2.11-4.20080712cvs.1.el6.x86_64                                                                           22/30 \n",
      "  Verifying  : libdrm-2.4.65-2.el6.x86_64                                                                                        23/30 \n",
      "  Verifying  : policycoreutils-2.0.83-30.1.el6_8.x86_64                                                                          24/30 \n",
      "  Verifying  : sysvinit-tools-2.87-6.dsf.el6.x86_64                                                                              25/30 \n",
      "  Verifying  : iptables-1.4.7-16.el6.x86_64                                                                                      26/30 \n",
      "  Verifying  : php-common-5.3.3-48.el6_8.x86_64                                                                                  27/30 \n",
      "  Verifying  : util-linux-ng-2.17.2-12.24.el6_8.3.x86_64                                                                         28/30 \n",
      "  Verifying  : sudo-1.8.6p3-25.el6_8.x86_64                                                                                      29/30 \n",
      "  Verifying  : hwdata-0.233-16.1.el6.noarch                                                                                      30/30 \n",
      "\n",
      "Installed:\n",
      "  httpd.x86_64 0:2.2.15-56.el6.centos.3         openssh-server.x86_64 0:5.3p1-118.1.el6_8         php.x86_64 0:5.3.3-48.el6_8        \n",
      "  sudo.x86_64 0:1.8.6p3-25.el6_8               \n",
      "\n",
      "Dependency Installed:\n",
      "  apr.x86_64 0:1.3.9-5.el6_2                  apr-util.x86_64 0:1.3.9-3.el6_0.1           apr-util-ldap.x86_64 0:1.3.9-3.el6_0.1     \n",
      "  dbus-glib.x86_64 0:0.86-6.el6               fipscheck.x86_64 0:1.2.0-7.el6              fipscheck-lib.x86_64 0:1.2.0-7.el6         \n",
      "  httpd-tools.x86_64 0:2.2.15-56.el6.centos.3 hwdata.noarch 0:0.233-16.1.el6              initscripts.x86_64 0:9.03.53-1.el6.centos.2\n",
      "  iproute.x86_64 0:2.6.32-54.el6              iptables.x86_64 0:1.4.7-16.el6              iputils.x86_64 0:20071127-21.el6           \n",
      "  libdrm.x86_64 0:2.4.65-2.el6                libedit.x86_64 0:2.11-4.20080712cvs.1.el6   libpciaccess.x86_64 0:0.13.4-1.el6         \n",
      "  mailcap.noarch 0:2.1.31-2.el6               openssh.x86_64 0:5.3p1-118.1.el6_8          php-cli.x86_64 0:5.3.3-48.el6_8            \n",
      "  php-common.x86_64 0:5.3.3-48.el6_8          plymouth.x86_64 0:0.8.3-27.el6.centos.1     policycoreutils.x86_64 0:2.0.83-30.1.el6_8 \n",
      "  redhat-logos.noarch 0:60.0.14-12.el6.centos sysvinit-tools.x86_64 0:2.87-6.dsf.el6      tcp_wrappers-libs.x86_64 0:7.6-58.el6      \n",
      "  udev.x86_64 0:147-2.73.el6_8.2              util-linux-ng.x86_64 0:2.17.2-12.24.el6_8.3\n",
      "\n",
      "Complete!\n",
      "\u001b]0;@548f70d44cb2:/\u0007[root@548f70d44cb2 /]# cd\n",
      "\u001b]0;@548f70d44cb2:~\u0007[root@548f70d44cb2 ~]# whoaim\b \b\b \bmi\n",
      "root\n",
      "\u001b]0;@548f70d44cb2:~\u0007[root@548f70d44cb2 ~]# which servie\b \bce\n",
      "/sbin/service\n",
      "\u001b[K[root@548f70d44cb2 ~]# vi .\b \bbashric\b \b\b \bc\n",
      "\u001b[?25l\u001b[14;1H\u001b[K\u001b[14;1H\u001b[?1l\u001b>\u001b[?12l\u001b[?25h\u001b[?1049l\u001b]0;@548f70d44cb2:~\u0007[root@548f70d44cb2 ~]# vi bashrc\b\b\b\b\b\b\u001b[1@.                                                                                                                               \u001b[3;1H~                                                                                                                                      \u001b[4;1H~                                                                                                                                      \u001b[5;1H~                                                                                                                                      \u001b[6;1H~                                                                                                                                      \u001b[7;1H~                                                                                                                                      \u001b[8;1H~                                                                                                                                      \u001b[9;1H~                                                                                                                                      \u001b[10;1H~                                                                                                                                      \u001b[11;1H~                                                                                                                                      \u001b[12;1H~                                                                                                                                      \u001b[13;1H~                                                                                                                                      \u001b[1;1H\u001b[?12l\u001b[?25h\u0007\u001b[?25l\u001b[m\u001b[14;1H\u001b[K\u001b[14;1H:\u001b[?12l\u001b[?25hq\n",
      "\u001b[?1049h\u001b[?1h\u001b=\u001b[1;14r\u001b[?12;25h\u001b[?12l\u001b[?25h\u001b[27m\u001b[m\u001b[H\u001b[2J\u001b[?25l\u001b[14;1H\".bashrc\" 12L, 176C\u001b[1;1H# .bashrc\n",
      "\n",
      "# User specific aliases and functions\n",
      "\n",
      "alias rm='rm -i'\n",
      "alias cp='cp -i'\n",
      "alias mv='mv -i'\n",
      "\n",
      "# Source global definitions\n",
      "if [ -f /etc/bashrc ]; then\u001b[11;9H. /etc/bashrc\n",
      "fi\n",
      "\u001b[1m\u001b[34m~                                                                                                                                      \u001b[1;1H\u001b[?12l\u001b[?25h\u0007\n",
      "\u001b[?25l\u001b[m\u001b[14;1H\u001b[1m-- INSERT --\u001b[m\u001b[14;13H\u001b[K\u001b[2;13r\u001b[2;1H\u001b[L\u001b[1;14r\u001b[2;1H\u001b[?12l\u001b[?25h\u001b[14;1H\u001b[K\u001b[2;1H\u001b[?25l\u001b[?12l\u001b[?25h\u001b[?25l\u001b[14;1H1 line less; before #1  1 seconds ago\u001b[2;13r\u001b[13;1H\n",
      "\u001b[1;14r\u001b[13;1H\u001b[1m\u001b[34m~                                                                                                                                      \u001b[m\u001b[14;1H\u001b[K\u001b[2;1H\u001b[?12l\u001b[?25h\u001b[12;1H\u001b[?25l\n",
      "\n",
      "\u001b[1m-- INSERT --\u001b[m\u001b[13;1H\u001b[K\u001b[13;1H\u001b[?12l\u001b[?25h\u001b[?25l\u001b[1;13r\u001b[13;1H\n",
      "\u001b[1;14r\u001b[13;1H\u001b[?12l\u001b[?25h\u001b[?25l#\u001b[?12l\u001b[?25h\u001b[?25l#\u001b[?12l\u001b[?25h\u001b[?25l \u001b[?12l\u001b[?25h\u001b[?25lA\u001b[?12l\u001b[?25h\u001b[?25ld\u001b[?12l\u001b[?25h\u001b[?25ld\u001b[?12l\u001b[?25h\u001b[?25l \u001b[?12l\u001b[?25h\u001b[?25ls\u001b[?12l\u001b[?25h\u001b[?25le\u001b[?12l\u001b[?25h\u001b[?25lr\u001b[?12l\u001b[?25h\u001b[?25lv\u001b[?12l\u001b[?25h\u001b[?25li\u001b[?12l\u001b[?25h\u001b[?25lc\u001b[?12l\u001b[?25h\u001b[?25le\u001b[?12l\u001b[?25h\u001b[?25ls\u001b[?12l\u001b[?25h\u001b[?25l \u001b[?12l\u001b[?25h\u001b[?25lt\u001b[?12l\u001b[?25h\u001b[?25lo\u001b[?12l\u001b[?25h\u001b[?25l \u001b[?12l\u001b[?25h\u001b[?25ls\u001b[?12l\u001b[?25h\u001b[?25lt\u001b[?12l\u001b[?25h\u001b[?25la\u001b[?12l\u001b[?25h\u001b[?25lr\u001b[?12l\u001b[?25h\u001b[?25lt\u001b[?12l\u001b[?25h\u001b[?25l\u001b[1;13r\u001b[13;1H\n",
      "\u001b[1;14r\u001b[13;1H\u001b[?12l\u001b[?25h\u001b[?25l/\u001b[?12l\u001b[?25h\u001b[?25ls\u001b[?12l\u001b[?25h\u001b[?25lb\u001b[?12l\u001b[?25h\u001b[?25li\u001b[?12l\u001b[?25h\u001b[?25ln\u001b[?12l\u001b[?25h\u001b[?25l/\u001b[?12l\u001b[?25h\u001b[?25ls\u001b[?12l\u001b[?25h\u001b[?25le\u001b[?12l\u001b[?25h\u001b[?25lr\u001b[?12l\u001b[?25h\u001b[?25lv\u001b[?12l\u001b[?25h\u001b[?25li\u001b[?12l\u001b[?25h\u001b[?25lc\u001b[?12l\u001b[?25h\u001b[?25le\u001b[?12l\u001b[?25h\u001b[?25l \u001b[?12l\u001b[?25h\u001b[?25ls\u001b[?12l\u001b[?25h\u001b[?25l\u001b[13;15H\u001b[K\u001b[13;15H\u001b[?12l\u001b[?25h\u001b[?25lh\u001b[?12l\u001b[?25h\u001b[?25lt\u001b[?12l\u001b[?25h\u001b[?25lt\u001b[?12l\u001b[?25h\u001b[?25lp\u001b[?12l\u001b[?25h\u001b[?25ld\u001b[?12l\u001b[?25h\u001b[?25l \u001b[?12l\u001b[?25h\u001b[?25ls\u001b[?12l\u001b[?25h\u001b[?25lt\u001b[?12l\u001b[?25h\u001b[?25la\u001b[?12l\u001b[?25h\u001b[?25lr\u001b[?12l\u001b[?25h\u001b[?25lt\u001b[?12l\u001b[?25h\u001b[?25l\u001b[1;13r\u001b[13;1H\n",
      "\u001b[1;14r\u001b[13;1H\u001b[?12l\u001b[?25h\u001b[?25l/\u001b[?12l\u001b[?25h\u001b[?25ls\u001b[?12l\u001b[?25h\u001b[?25lb\u001b[?12l\u001b[?25h\u001b[?25lu\u001b[?12l\u001b[?25h\u001b[?25ln\u001b[?12l\u001b[?25h\u001b[?25l \u001b[?12l\u001b[?25h\u001b[?25l\b\u001b[?12l\u001b[?25h\u001b[?25l\u001b[13;5H\u001b[K\u001b[13;5H\u001b[?12l\u001b[?25h\u001b[?25l\u001b[13;4H\u001b[K\u001b[13;4H\u001b[?12l\u001b[?25h\u001b[?25li\u001b[?12l\u001b[?25h\u001b[?25ln\u001b[?12l\u001b[?25h\u001b[?25l/\u001b[?12l\u001b[?25h\u001b[?25ls\u001b[?12l\u001b[?25h\u001b[?25le\u001b[?12l\u001b[?25h\u001b[?25lr\u001b[?12l\u001b[?25h\u001b[?25lv\u001b[?12l\u001b[?25h\u001b[?25li\u001b[?12l\u001b[?25h\u001b[?25lc\u001b[?12l\u001b[?25h\u001b[?25le\u001b[?12l\u001b[?25h\u001b[?25l \u001b[?12l\u001b[?25h\u001b[?25lo\u001b[?12l\u001b[?25h\u001b[?25lp\u001b[?12l\u001b[?25h\u001b[?25le\u001b[?12l\u001b[?25h\u001b[?25ln\u001b[?12l\u001b[?25h\u001b[?25ls\u001b[?12l\u001b[?25h\u001b[?25ls\u001b[?12l\u001b[?25h\u001b[?25lh\u001b[?12l\u001b[?25h\u001b[?25l-\u001b[?12l\u001b[?25h\u001b[?25ls\u001b[?12l\u001b[?25h\u001b[?25le\u001b[?12l\u001b[?25h\u001b[?25lr\u001b[?12l\u001b[?25h\u001b[?25lv\u001b[?12l\u001b[?25h\u001b[?25le\u001b[?12l\u001b[?25h\u001b[?25lr\u001b[?12l\u001b[?25h\u001b[?25l \u001b[?12l\u001b[?25h\u001b[?25ls\u001b[?12l\u001b[?25h\u001b[?25lt\u001b[?12l\u001b[?25h\u001b[?25la\u001b[?12l\u001b[?25h\u001b[?25lr\u001b[?12l\u001b[?25h\u001b[?25lt\u001b[?12l\u001b[?25h\u001b[14;1H\u001b[K\u001b[13;34H\u001b[?25l\u001b[?12l\u001b[?25h\u001b[?25l\n",
      "\u001b[?25l\".bashrc\" 16L, 263C written\n",
      "[root@548f70d44cb2 ~]# cd\u001b[K\b\bwhoami\b\b\b\bich service\b\b\b\b\b\b\b\b\b\b\b\b\b\u001b[4Pvi bashrc\b\b\b\b\b\b\u001b[1@.bashrc\b\b\b\b\b\b\b\b\b\b\u001b[K\u0007\u0007\u0007exitrelease-6-8.noarch.rpmrpm\b\b\b\b\b\u001b[4Pcd\b\byum install which sudo httpd php openssh-server -y\n",
      "exit\n"
     ]
    }
   ],
   "source": [
    "docker run -i -t centos:centos6 /bin/bash"
   ]
  },
  {
   "cell_type": "markdown",
   "metadata": {},
   "source": [
    "### Check nothing else is running"
   ]
  },
  {
   "cell_type": "code",
   "execution_count": 8,
   "metadata": {
    "collapsed": false
   },
   "outputs": [
    {
     "name": "stdout",
     "output_type": "stream",
     "text": [
      "CONTAINER ID        IMAGE               COMMAND             CREATED             STATUS              PORTS               NAMES\n"
     ]
    }
   ],
   "source": [
    "docker ps"
   ]
  },
  {
   "cell_type": "markdown",
   "metadata": {},
   "source": [
    "### Check that our container ID is there"
   ]
  },
  {
   "cell_type": "code",
   "execution_count": 11,
   "metadata": {
    "collapsed": false
   },
   "outputs": [
    {
     "name": "stdout",
     "output_type": "stream",
     "text": [
      "CONTAINER ID        IMAGE               COMMAND             CREATED             STATUS                     PORTS               NAMES\n",
      "548f70d44cb2        centos:centos6      \"/bin/bash\"         12 minutes ago      Exited (0) 2 minutes ago                       reverent_pasteur\n"
     ]
    }
   ],
   "source": [
    "docker ps -a"
   ]
  },
  {
   "cell_type": "markdown",
   "metadata": {},
   "source": [
    "### Commit\n",
    "We see that our container ID is ```548f70d44cb2```, so we want to commit that.\n",
    "This will build a new container that has all the dependencies that we need, libraries, etc."
   ]
  },
  {
   "cell_type": "code",
   "execution_count": 13,
   "metadata": {
    "collapsed": false
   },
   "outputs": [
    {
     "name": "stdout",
     "output_type": "stream",
     "text": [
      "sha256:f466708d751e2812b4ea181b91aeb44ca2efc031a015dc363f5bb900a60de0d5\n"
     ]
    }
   ],
   "source": [
    "docker commit 548f70d44cb2 centos6:baseweb"
   ]
  },
  {
   "cell_type": "markdown",
   "metadata": {},
   "source": [
    "### Check the images"
   ]
  },
  {
   "cell_type": "code",
   "execution_count": 14,
   "metadata": {
    "collapsed": false
   },
   "outputs": [
    {
     "name": "stdout",
     "output_type": "stream",
     "text": [
      "REPOSITORY          TAG                 IMAGE ID            CREATED             SIZE\n",
      "centos6             baseweb             f466708d751e        35 seconds ago      373 MB\n",
      "centos              centos6             8315978ceaaa        4 months ago        195 MB\n"
     ]
    }
   ],
   "source": [
    "docker images"
   ]
  },
  {
   "cell_type": "markdown",
   "metadata": {},
   "source": [
    "### Start a container with new image\n",
    "This time we will just start a container in daemon mode, and we will send the commands one by one with the docker exec command"
   ]
  },
  {
   "cell_type": "code",
   "execution_count": 16,
   "metadata": {
    "collapsed": false
   },
   "outputs": [
    {
     "name": "stdout",
     "output_type": "stream",
     "text": [
      "cdb2b1a1a046652ec8bcf1ff4f80b0240d3a33dcf19da068d4a4d9d95507b226\n"
     ]
    }
   ],
   "source": [
    "docker run -d -i -t centos6:baseweb /bin/bash"
   ]
  },
  {
   "cell_type": "markdown",
   "metadata": {},
   "source": [
    "##### Perfect! So now we can check what it's name is to refer to it through that"
   ]
  },
  {
   "cell_type": "code",
   "execution_count": 17,
   "metadata": {
    "collapsed": false
   },
   "outputs": [
    {
     "name": "stdout",
     "output_type": "stream",
     "text": [
      "CONTAINER ID        IMAGE               COMMAND             CREATED             STATUS              PORTS               NAMES\n",
      "cdb2b1a1a046        centos6:baseweb     \"/bin/bash\"         34 seconds ago      Up 33 seconds                           dreamy_clarke\n"
     ]
    }
   ],
   "source": [
    "docker ps"
   ]
  },
  {
   "cell_type": "markdown",
   "metadata": {},
   "source": [
    "##### This container is called \"dreamy_clarke\" so we'll be able to refer to it through that name."
   ]
  },
  {
   "cell_type": "markdown",
   "metadata": {},
   "source": [
    "### Starting  a service\n",
    "We first want to check what the commands and outputs have been so far using the **docker logs**"
   ]
  },
  {
   "cell_type": "code",
   "execution_count": 20,
   "metadata": {
    "collapsed": false
   },
   "outputs": [
    {
     "name": "stdout",
     "output_type": "stream",
     "text": [
      "Starting httpd: httpd: Could not reliably determine the server's fully qualified domain name, using 172.17.0.2 for ServerName\n",
      "\u001b[60G[\u001b[0;32m  OK  \u001b[0;39m]\n",
      "openssh-server: unrecognized service\n"
     ]
    }
   ],
   "source": [
    "docker logs dreamy_clarke"
   ]
  },
  {
   "cell_type": "markdown",
   "metadata": {},
   "source": [
    "##### We can see that openssh-server is an unrecognised service!"
   ]
  },
  {
   "cell_type": "markdown",
   "metadata": {},
   "source": [
    "If we wanted to open ssh service we would run:"
   ]
  },
  {
   "cell_type": "code",
   "execution_count": 23,
   "metadata": {
    "collapsed": false
   },
   "outputs": [
    {
     "name": "stdout",
     "output_type": "stream",
     "text": [
      "Generating SSH2 RSA host key: [  OK  ]\n",
      "Generating SSH1 RSA host key: [  OK  ]\n",
      "Generating SSH2 DSA host key: [  OK  ]\n",
      "Starting sshd: [  OK  ]\n"
     ]
    }
   ],
   "source": [
    "docker exec dreamy_clarke service sshd start"
   ]
  },
  {
   "cell_type": "markdown",
   "metadata": {},
   "source": [
    "**We now exit the container to fix this error in the original container**"
   ]
  },
  {
   "cell_type": "code",
   "execution_count": 24,
   "metadata": {
    "collapsed": false
   },
   "outputs": [
    {
     "name": "stdout",
     "output_type": "stream",
     "text": [
      "dreamy_clarke\n"
     ]
    }
   ],
   "source": [
    "docker stop dreamy_clarke"
   ]
  },
  {
   "cell_type": "code",
   "execution_count": 25,
   "metadata": {
    "collapsed": false
   },
   "outputs": [
    {
     "name": "stdout",
     "output_type": "stream",
     "text": [
      "REPOSITORY          TAG                 IMAGE ID            CREATED             SIZE\n",
      "centos6             baseweb             f466708d751e        12 minutes ago      373 MB\n",
      "centos              centos6             8315978ceaaa        4 months ago        195 MB\n"
     ]
    }
   ],
   "source": [
    "docker images"
   ]
  },
  {
   "cell_type": "markdown",
   "metadata": {},
   "source": [
    "### Remove image\n",
    "We will now remove the image, but what will happen is that we'll run into a conflict"
   ]
  },
  {
   "cell_type": "code",
   "execution_count": 27,
   "metadata": {
    "collapsed": false
   },
   "outputs": [
    {
     "name": "stdout",
     "output_type": "stream",
     "text": [
      "Error response from daemon: conflict: unable to remove repository reference \"centos6:baseweb\" (must force) - container cdb2b1a1a046 is using its referenced image f466708d751e\n"
     ]
    },
    {
     "ename": "",
     "evalue": "1",
     "output_type": "error",
     "traceback": []
    }
   ],
   "source": [
    "docker rmi centos6:baseweb"
   ]
  },
  {
   "cell_type": "markdown",
   "metadata": {},
   "source": [
    "** In order to remove the image we need to first remove the container with the ID it is complaining**"
   ]
  },
  {
   "cell_type": "code",
   "execution_count": 28,
   "metadata": {
    "collapsed": false
   },
   "outputs": [
    {
     "name": "stdout",
     "output_type": "stream",
     "text": [
      "cdb2b1a1a046\n"
     ]
    }
   ],
   "source": [
    "docker rm cdb2b1a1a046"
   ]
  },
  {
   "cell_type": "code",
   "execution_count": 29,
   "metadata": {
    "collapsed": false
   },
   "outputs": [
    {
     "name": "stdout",
     "output_type": "stream",
     "text": [
      "Untagged: centos6:baseweb\n",
      "Deleted: sha256:f466708d751e2812b4ea181b91aeb44ca2efc031a015dc363f5bb900a60de0d5\n",
      "Deleted: sha256:a15c4e25591874dd8c9980c3312aa83f27a28055d90c391263bca2954314bdac\n"
     ]
    }
   ],
   "source": [
    "docker rmi centos6:baseweb"
   ]
  },
  {
   "cell_type": "markdown",
   "metadata": {},
   "source": [
    "** Done!**"
   ]
  },
  {
   "cell_type": "markdown",
   "metadata": {},
   "source": [
    "### Creating another image\n",
    "We now don't have to re-run the image to create a brand new container to install the dependencies again, as we still have the container we created previously (the one we used to commit to the baseweb image).\n",
    "\n",
    "We should re-start that container, and fix it!"
   ]
  },
  {
   "cell_type": "code",
   "execution_count": 33,
   "metadata": {
    "collapsed": false
   },
   "outputs": [
    {
     "name": "stdout",
     "output_type": "stream",
     "text": [
      "CONTAINER ID        IMAGE               COMMAND             CREATED             STATUS                      PORTS               NAMES\n",
      "548f70d44cb2        centos:centos6      \"/bin/bash\"         32 minutes ago      Exited (0) 21 minutes ago                       reverent_pasteur\n"
     ]
    }
   ],
   "source": [
    "docker ps -a"
   ]
  },
  {
   "cell_type": "markdown",
   "metadata": {},
   "source": [
    "** We restart that container with the id 548f70d44cb2**"
   ]
  },
  {
   "cell_type": "code",
   "execution_count": 36,
   "metadata": {
    "collapsed": false
   },
   "outputs": [
    {
     "name": "stdout",
     "output_type": "stream",
     "text": [
      "548f70d44cb2\n"
     ]
    }
   ],
   "source": [
    "docker start 548f70d44cb2 "
   ]
  },
  {
   "cell_type": "markdown",
   "metadata": {},
   "source": [
    "**We now go to the .bashrc file and edit the last line**"
   ]
  },
  {
   "cell_type": "code",
   "execution_count": 57,
   "metadata": {
    "collapsed": false
   },
   "outputs": [
    {
     "name": "stdout",
     "output_type": "stream",
     "text": [
      "# .bashrc\n",
      "\n",
      "# User specific aliases and functions\n",
      "\n",
      "alias rm='rm -i'\n",
      "alias cp='cp -i'\n",
      "alias mv='mv -i'\n",
      "\n",
      "# Source global definitions\n",
      "if [ -f /etc/bashrc ]; then\n",
      "\t. /etc/bashrc\n",
      "fi\n",
      "\n",
      "## Add services to start\n",
      "/sbin/service httpd start\n",
      "/sbin/service sshd start\n"
     ]
    }
   ],
   "source": [
    "# remove the last line of the .bashrc file\n",
    "docker exec 548f70d44cb2 bash -c \"cd && sed -i '$ d' .bashrc\"\n",
    "\n",
    "# Insert the correct line to run service\n",
    "docker exec 548f70d44cb2 bash -c 'cd && echo \"/sbin/service sshd start\" >> .bashrc'\n",
    "\n",
    "# Now we check the file\n",
    "docker exec 548f70d44cb2 bash -c \"cd && cat .bashrc\""
   ]
  },
  {
   "cell_type": "markdown",
   "metadata": {},
   "source": [
    "### Sorted!\n",
    "It seems that now it should be all good. So now we can stop the container, commit and we should be good."
   ]
  },
  {
   "cell_type": "code",
   "execution_count": 58,
   "metadata": {
    "collapsed": false
   },
   "outputs": [
    {
     "name": "stdout",
     "output_type": "stream",
     "text": [
      "548f70d44cb2\n"
     ]
    }
   ],
   "source": [
    "docker stop 548f70d44cb2"
   ]
  },
  {
   "cell_type": "code",
   "execution_count": 65,
   "metadata": {
    "collapsed": false
   },
   "outputs": [
    {
     "name": "stdout",
     "output_type": "stream",
     "text": [
      "sha256:34079efab3e4b83bd02553702d83d122a2d061d1d85f03d9b6a0d0ba7009af19\n"
     ]
    }
   ],
   "source": [
    "docker commit 548f70d44cb2 centos6:baseweb"
   ]
  },
  {
   "cell_type": "code",
   "execution_count": 66,
   "metadata": {
    "collapsed": false
   },
   "outputs": [
    {
     "name": "stdout",
     "output_type": "stream",
     "text": [
      "REPOSITORY          TAG                 IMAGE ID            CREATED             SIZE\n",
      "centos6             baseweb             34079efab3e4        2 seconds ago       373 MB\n",
      "centos              centos6             8315978ceaaa        4 months ago        195 MB\n"
     ]
    }
   ],
   "source": [
    "docker images"
   ]
  },
  {
   "cell_type": "code",
   "execution_count": 67,
   "metadata": {
    "collapsed": false
   },
   "outputs": [
    {
     "name": "stdout",
     "output_type": "stream",
     "text": [
      "695d1ddda23ecb2ee2aee71d944d9a57a36ca3d429f7b970d6ddc89135d71405\n"
     ]
    }
   ],
   "source": [
    "docker run -d -t -i centos6:baseweb /bin/bash"
   ]
  },
  {
   "cell_type": "code",
   "execution_count": 68,
   "metadata": {
    "collapsed": false
   },
   "outputs": [
    {
     "name": "stdout",
     "output_type": "stream",
     "text": [
      "CONTAINER ID        IMAGE               COMMAND             CREATED             STATUS              PORTS               NAMES\n",
      "695d1ddda23e        centos6:baseweb     \"/bin/bash\"         22 seconds ago      Up 20 seconds                           fervent_wright\n"
     ]
    }
   ],
   "source": [
    "docker ps"
   ]
  },
  {
   "cell_type": "code",
   "execution_count": 69,
   "metadata": {
    "collapsed": false
   },
   "outputs": [
    {
     "name": "stdout",
     "output_type": "stream",
     "text": [
      "Starting httpd: httpd: Could not reliably determine the server's fully qualified domain name, using 172.17.0.2 for ServerName\n",
      "\u001b[60G[\u001b[0;32m  OK  \u001b[0;39m]\n",
      "Generating SSH2 RSA host key: \u001b[60G[\u001b[0;32m  OK  \u001b[0;39m]\n",
      "Generating SSH1 RSA host key: \u001b[60G[\u001b[0;32m  OK  \u001b[0;39m]\n",
      "Generating SSH2 DSA host key: \u001b[60G[\u001b[0;32m  OK  \u001b[0;39m]\n",
      "Starting sshd: \u001b[60G[\u001b[0;32m  OK  \u001b[0;39m]\n"
     ]
    }
   ],
   "source": [
    "docker logs fervent_wright"
   ]
  },
  {
   "cell_type": "markdown",
   "metadata": {},
   "source": [
    "### All good!\n",
    "It seems that now all our servers are started as expected"
   ]
  },
  {
   "cell_type": "code",
   "execution_count": null,
   "metadata": {
    "collapsed": true
   },
   "outputs": [],
   "source": []
  }
 ],
 "metadata": {
  "kernelspec": {
   "display_name": "Bash",
   "language": "bash",
   "name": "bash"
  },
  "language_info": {
   "codemirror_mode": "shell",
   "file_extension": ".sh",
   "mimetype": "text/x-sh",
   "name": "bash"
  }
 },
 "nbformat": 4,
 "nbformat_minor": 2
}

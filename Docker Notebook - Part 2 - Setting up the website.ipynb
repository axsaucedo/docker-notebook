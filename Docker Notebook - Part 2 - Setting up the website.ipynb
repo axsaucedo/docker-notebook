{
 "cells": [
  {
   "cell_type": "markdown",
   "metadata": {
    "deletable": true,
    "editable": true
   },
   "source": [
    "# Part 2\n",
    "## Setting up the website\n",
    "In the previous part we created a basic web server that we can continue to build on.\n",
    "In our web form we want to do a few things."
   ]
  },
  {
   "cell_type": "markdown",
   "metadata": {
    "deletable": true,
    "editable": true
   },
   "source": [
    "## Adding Content\n",
    "We want to build some code for the site to display the site\n",
    "We head off to http://oswd.org to download a theme\n",
    "We've found one called bluefreedom, with this http://static.oswd.org/designs/3682/bluefreedom3.zip"
   ]
  },
  {
   "cell_type": "code",
   "execution_count": 1,
   "metadata": {
    "collapsed": false,
    "deletable": true,
    "editable": true
   },
   "outputs": [
    {
     "name": "stdout",
     "output_type": "stream",
     "text": [
      "--2017-03-12 12:18:53--  http://static.oswd.org/designs/3682/bluefreedom3.zip\n",
      "Resolving static.oswd.org... 52.84.63.173, 52.84.63.105, 52.84.63.20, ...\n",
      "Connecting to static.oswd.org|52.84.63.173|:80... connected.\n",
      "HTTP request sent, awaiting response... 200 OK\n",
      "Length: 13412 (13K) [application/zip]\n",
      "Saving to: 'bluefreedom3.zip'\n",
      "\n",
      "bluefreedom3.zip    100%[===================>]  13.10K  --.-KB/s    in 0.05s   \n",
      "\n",
      "2017-03-12 12:18:54 (270 KB/s) - 'bluefreedom3.zip' saved [13412/13412]\n",
      "\n"
     ]
    }
   ],
   "source": [
    "# Lets actually download the file\n",
    "wget http://static.oswd.org/designs/3682/bluefreedom3.zip"
   ]
  },
  {
   "cell_type": "markdown",
   "metadata": {
    "deletable": true,
    "editable": true
   },
   "source": [
    "### Setting up directory\n",
    "We now want to create a directory to store all our stuff"
   ]
  },
  {
   "cell_type": "code",
   "execution_count": 14,
   "metadata": {
    "collapsed": false,
    "deletable": true,
    "editable": true
   },
   "outputs": [
    {
     "name": "stdout",
     "output_type": "stream",
     "text": [
      "Archive:  bluefreedom3.zip\n",
      "   creating: bluefreedom3/images/\n",
      "  inflating: bluefreedom3/images/bott.jpg  \n",
      "  inflating: bluefreedom3/images/hidr.jpg  \n",
      "  inflating: bluefreedom3/images/midd.jpg  \n",
      "  inflating: bluefreedom3/images/minimal.jpg  \n",
      "  inflating: bluefreedom3/images/topp.jpg  \n",
      "  inflating: bluefreedom3/index.html  \n",
      "  inflating: bluefreedom3/style.css  \n"
     ]
    }
   ],
   "source": [
    "unzip bluefreedom3.zip"
   ]
  },
  {
   "cell_type": "code",
   "execution_count": 17,
   "metadata": {
    "collapsed": true,
    "deletable": true,
    "editable": true
   },
   "outputs": [],
   "source": [
    "mv bluefreedom3 dockerwww"
   ]
  },
  {
   "cell_type": "code",
   "execution_count": 18,
   "metadata": {
    "collapsed": false,
    "deletable": true,
    "editable": true
   },
   "outputs": [
    {
     "name": "stdout",
     "output_type": "stream",
     "text": [
      "images\t\tindex.html\tstyle.css\n"
     ]
    }
   ],
   "source": [
    "ls dockerwww"
   ]
  },
  {
   "cell_type": "markdown",
   "metadata": {
    "deletable": true,
    "editable": true
   },
   "source": [
    "### Building container\n",
    "Perfect, we now have all the files, so now we can build our web server"
   ]
  },
  {
   "cell_type": "code",
   "execution_count": 19,
   "metadata": {
    "collapsed": false,
    "deletable": true,
    "editable": true
   },
   "outputs": [
    {
     "name": "stdout",
     "output_type": "stream",
     "text": [
      "REPOSITORY          TAG                 IMAGE ID            CREATED             SIZE\n",
      "centos6             baseweb             34079efab3e4        20 minutes ago      373 MB\n",
      "centos              centos6             8315978ceaaa        4 months ago        195 MB\n"
     ]
    }
   ],
   "source": [
    "docker images"
   ]
  },
  {
   "cell_type": "markdown",
   "metadata": {
    "deletable": true,
    "editable": true
   },
   "source": [
    "**We can see we have our container baseweb that we can create a container to share our site with**"
   ]
  },
  {
   "cell_type": "markdown",
   "metadata": {
    "deletable": true,
    "editable": true
   },
   "source": [
    "### Run Container\n",
    "We want to run a container with the name baseweb. We'll deattach to run any commands with docker exec."
   ]
  },
  {
   "cell_type": "code",
   "execution_count": 24,
   "metadata": {
    "collapsed": false,
    "deletable": true,
    "editable": true
   },
   "outputs": [
    {
     "name": "stdout",
     "output_type": "stream",
     "text": [
      "2360c8d7973856349de779fd0da6f5591f116b6225d2c622cd2fb3e9e37ecd06\n"
     ]
    }
   ],
   "source": [
    "docker run --name=webtest -d -i -t centos6:baseweb /bin/bash"
   ]
  },
  {
   "cell_type": "code",
   "execution_count": 25,
   "metadata": {
    "collapsed": false,
    "deletable": true,
    "editable": true
   },
   "outputs": [
    {
     "name": "stdout",
     "output_type": "stream",
     "text": [
      "CONTAINER ID        IMAGE               COMMAND             CREATED             STATUS              PORTS               NAMES\n",
      "2360c8d79738        centos6:baseweb     \"/bin/bash\"         7 seconds ago       Up 6 seconds                            webtest\n"
     ]
    }
   ],
   "source": [
    "docker ps "
   ]
  },
  {
   "cell_type": "markdown",
   "metadata": {
    "deletable": true,
    "editable": true
   },
   "source": [
    "**Awesome - our containter is now running. Let's check the logs**"
   ]
  },
  {
   "cell_type": "code",
   "execution_count": 26,
   "metadata": {
    "collapsed": false,
    "deletable": true,
    "editable": true
   },
   "outputs": [
    {
     "name": "stdout",
     "output_type": "stream",
     "text": [
      "Starting httpd: httpd: Could not reliably determine the server's fully qualified domain name, using 172.17.0.2 for ServerName\n",
      "\u001b[60G[\u001b[0;32m  OK  \u001b[0;39m]\n",
      "Generating SSH2 RSA host key: \u001b[60G[\u001b[0;32m  OK  \u001b[0;39m]\n",
      "Generating SSH1 RSA host key: \u001b[60G[\u001b[0;32m  OK  \u001b[0;39m]\n",
      "Generating SSH2 DSA host key: \u001b[60G[\u001b[0;32m  OK  \u001b[0;39m]\n",
      "Starting sshd: \u001b[60G[\u001b[0;32m  OK  \u001b[0;39m]\n"
     ]
    }
   ],
   "source": [
    "docker logs webtest"
   ]
  },
  {
   "cell_type": "markdown",
   "metadata": {
    "deletable": true,
    "editable": true
   },
   "source": [
    "**Everything looks good**, and it gives us the IP address which is 172.17.0.2"
   ]
  },
  {
   "cell_type": "markdown",
   "metadata": {
    "deletable": true,
    "editable": true
   },
   "source": [
    "## Mounting the folder\n",
    "The problem is that we don't have anything to serve... \n",
    "We can check this by running `df -h`"
   ]
  },
  {
   "cell_type": "code",
   "execution_count": 27,
   "metadata": {
    "collapsed": false,
    "deletable": true,
    "editable": true
   },
   "outputs": [
    {
     "name": "stdout",
     "output_type": "stream",
     "text": [
      "Filesystem      Size  Used Avail Use% Mounted on\n",
      "overlay          63G  1.7G   58G   3% /\n",
      "tmpfs          1000M     0 1000M   0% /dev\n",
      "tmpfs          1000M     0 1000M   0% /sys/fs/cgroup\n",
      "/dev/vda1        63G  1.7G   58G   3% /etc/resolv.conf\n",
      "/dev/vda1        63G  1.7G   58G   3% /etc/hostname\n",
      "/dev/vda1        63G  1.7G   58G   3% /etc/hosts\n",
      "shm              64M     0   64M   0% /dev/shm\n",
      "tmpfs          1000M     0 1000M   0% /proc/kcore\n",
      "tmpfs          1000M     0 1000M   0% /proc/timer_list\n",
      "tmpfs          1000M     0 1000M   0% /proc/sched_debug\n",
      "tmpfs          1000M     0 1000M   0% /sys/firmware\n"
     ]
    }
   ],
   "source": [
    "docker exec webtest df -h"
   ]
  },
  {
   "cell_type": "code",
   "execution_count": 28,
   "metadata": {
    "collapsed": true,
    "deletable": true,
    "editable": true
   },
   "outputs": [],
   "source": [
    "# We can check what's inside the default apache server folder\n",
    "docker exec webtest bash -c \"cd /var/www/html; ls\""
   ]
  },
  {
   "cell_type": "markdown",
   "metadata": {
    "deletable": true,
    "editable": true
   },
   "source": [
    "**Indeed! There's nothing... so it won't serve any content**"
   ]
  },
  {
   "cell_type": "markdown",
   "metadata": {
    "deletable": true,
    "editable": true
   },
   "source": [
    "### Fix it!\n",
    "So we are going to fix this. we'll remove the container and rebuild.."
   ]
  },
  {
   "cell_type": "code",
   "execution_count": 30,
   "metadata": {
    "collapsed": false,
    "deletable": true,
    "editable": true
   },
   "outputs": [
    {
     "name": "stdout",
     "output_type": "stream",
     "text": [
      "webtest\n"
     ]
    }
   ],
   "source": [
    "docker rm webtest -f"
   ]
  },
  {
   "cell_type": "markdown",
   "metadata": {
    "deletable": true,
    "editable": true
   },
   "source": [
    "** This time we will attach the volume into the container so that it has the html files**"
   ]
  },
  {
   "cell_type": "code",
   "execution_count": 32,
   "metadata": {
    "collapsed": false,
    "deletable": true,
    "editable": true
   },
   "outputs": [
    {
     "name": "stdout",
     "output_type": "stream",
     "text": [
      "a331f509b999c412d7906d4c40304d26a0e2fd27b50133602dbf42f59ffae030\n"
     ]
    }
   ],
   "source": [
    "docker run -p 8080:80 --name=webtest -v $(pwd)/dockerwww:/var/www/html -d -i -t centos6:baseweb /bin/bash"
   ]
  },
  {
   "cell_type": "code",
   "execution_count": 33,
   "metadata": {
    "collapsed": false,
    "deletable": true,
    "editable": true
   },
   "outputs": [
    {
     "name": "stdout",
     "output_type": "stream",
     "text": [
      "Starting httpd: httpd: Could not reliably determine the server's fully qualified domain name, using 172.17.0.2 for ServerName\n",
      "\u001b[60G[\u001b[0;32m  OK  \u001b[0;39m]\n",
      "Generating SSH2 RSA host key: \u001b[60G[\u001b[0;32m  OK  \u001b[0;39m]\n",
      "Generating SSH1 RSA host key: \u001b[60G[\u001b[0;32m  OK  \u001b[0;39m]\n",
      "Generating SSH2 DSA host key: \u001b[60G[\u001b[0;32m  OK  \u001b[0;39m]\n",
      "Starting sshd: \u001b[60G[\u001b[0;32m  OK  \u001b[0;39m]\n"
     ]
    }
   ],
   "source": [
    "docker logs webtest"
   ]
  },
  {
   "cell_type": "markdown",
   "metadata": {
    "collapsed": false,
    "deletable": true,
    "editable": true
   },
   "source": [
    "**Given that we mapped a port 8080:80, we can check it out by visiting http://localhost:8080!**"
   ]
  },
  {
   "cell_type": "markdown",
   "metadata": {
    "collapsed": true,
    "deletable": true,
    "editable": true
   },
   "source": [
    "### Making changes\n",
    "We could just make chagnes in the container, so we could just make changes to our underlying directory, making changes directly on that. (dockerwww).\n",
    "\n",
    "We can add a git repo on our ./dockerww folder to keep everything tidy, etc"
   ]
  }
 ],
 "metadata": {
  "kernelspec": {
   "display_name": "Bash",
   "language": "bash",
   "name": "bash"
  },
  "language_info": {
   "codemirror_mode": "shell",
   "file_extension": ".sh",
   "mimetype": "text/x-sh",
   "name": "bash"
  }
 },
 "nbformat": 4,
 "nbformat_minor": 2
}

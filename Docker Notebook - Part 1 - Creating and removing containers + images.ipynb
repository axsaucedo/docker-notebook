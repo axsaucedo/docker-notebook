{
 "cells": [
  {
   "cell_type": "markdown",
   "metadata": {
    "deletable": true,
    "editable": true
   },
   "source": [
    "# Part One: \n",
    "## Creating and removing containers + images"
   ]
  },
  {
   "cell_type": "markdown",
   "metadata": {
    "collapsed": true,
    "deletable": true,
    "editable": true
   },
   "source": [
    "### Starting from scratch\n",
    "We can see that we are now starting without any images"
   ]
  },
  {
   "cell_type": "code",
   "execution_count": 6,
   "metadata": {
    "collapsed": false,
    "deletable": true,
    "editable": true
   },
   "outputs": [
    {
     "name": "stdout",
     "output_type": "stream",
     "text": [
      "REPOSITORY          TAG                 IMAGE ID            CREATED             SIZE\n"
     ]
    }
   ],
   "source": [
    "docker images"
   ]
  },
  {
   "cell_type": "markdown",
   "metadata": {
    "deletable": true,
    "editable": true
   },
   "source": [
    "### Download Centos 6 Image\n",
    "We start by using the 'pull' command provided by docker to get the centos6:latest image"
   ]
  },
  {
   "cell_type": "code",
   "execution_count": 9,
   "metadata": {
    "collapsed": false,
    "deletable": true,
    "editable": true
   },
   "outputs": [
    {
     "name": "stdout",
     "output_type": "stream",
     "text": [
      "centos6: Pulling from library/centos\n",
      "\n",
      "\u001b[1BDigest: sha256:1092df198d3da4faccc0660941b763ce5adf133b0ec71701b760d6f173c1f47b\n",
      "Status: Downloaded newer image for centos:centos6\n"
     ]
    }
   ],
   "source": [
    "docker pull centos:centos6"
   ]
  },
  {
   "cell_type": "markdown",
   "metadata": {
    "deletable": true,
    "editable": true
   },
   "source": [
    "### Check image\n",
    "Now that we downloaded the image we can check if the image downloaded correctly."
   ]
  },
  {
   "cell_type": "code",
   "execution_count": 10,
   "metadata": {
    "collapsed": false,
    "deletable": true,
    "editable": true
   },
   "outputs": [
    {
     "name": "stdout",
     "output_type": "stream",
     "text": [
      "REPOSITORY          TAG                 IMAGE ID            CREATED             SIZE\n",
      "centos              centos6             8315978ceaaa        4 months ago        195 MB\n"
     ]
    }
   ],
   "source": [
    "docker images"
   ]
  },
  {
   "cell_type": "markdown",
   "metadata": {
    "deletable": true,
    "editable": true
   },
   "source": [
    "### Launch an instance + install dependencies\n",
    "We launch a docker instance from the centos:centos6 and install all dependencies.\n",
    "Because of limitations with the Jupyter bash notebook, we will use the exec command from docker, to the running container."
   ]
  },
  {
   "cell_type": "code",
   "execution_count": 71,
   "metadata": {
    "collapsed": false,
    "deletable": true,
    "editable": true
   },
   "outputs": [
    {
     "name": "stdout",
     "output_type": "stream",
     "text": [
      "d68d5fbad421ec39298516757cb2727441f95dd7541c4f46e63290f9aed50860\n"
     ]
    }
   ],
   "source": [
    "docker run --name con -d -i -t centos:centos6 /bin/bash"
   ]
  },
  {
   "cell_type": "markdown",
   "metadata": {},
   "source": [
    "**Let's check that our container is running**"
   ]
  },
  {
   "cell_type": "code",
   "execution_count": 72,
   "metadata": {
    "collapsed": false,
    "scrolled": true
   },
   "outputs": [
    {
     "name": "stdout",
     "output_type": "stream",
     "text": [
      "CONTAINER ID        IMAGE               COMMAND             CREATED             STATUS              PORTS               NAMES\n",
      "d68d5fbad421        centos:centos6      \"/bin/bash\"         26 seconds ago      Up 26 seconds                           con\n",
      "695d1ddda23e        centos6:baseweb     \"/bin/bash\"         9 minutes ago       Up 9 minutes                            fervent_wright\n"
     ]
    }
   ],
   "source": [
    "docker ps"
   ]
  },
  {
   "cell_type": "markdown",
   "metadata": {},
   "source": [
    "**We can see that our container with the name \"con\" is running!**"
   ]
  },
  {
   "cell_type": "markdown",
   "metadata": {},
   "source": [
    "### Time to install dependencies"
   ]
  },
  {
   "cell_type": "markdown",
   "metadata": {},
   "source": [
    "**Download wget**"
   ]
  },
  {
   "cell_type": "code",
   "execution_count": 74,
   "metadata": {
    "collapsed": false
   },
   "outputs": [
    {
     "name": "stdout",
     "output_type": "stream",
     "text": [
      "Loaded plugins: fastestmirror, ovl\n",
      "Setting up Install Process\n",
      "Resolving Dependencies\n",
      "--> Running transaction check\n",
      "---> Package wget.x86_64 0:1.12-8.el6 will be installed\n",
      "--> Finished Dependency Resolution\n",
      "\n",
      "Dependencies Resolved\n",
      "\n",
      "================================================================================\n",
      " Package         Arch              Version                Repository       Size\n",
      "================================================================================\n",
      "Installing:\n",
      " wget            x86_64            1.12-8.el6             base            484 k\n",
      "\n",
      "Transaction Summary\n",
      "================================================================================\n",
      "Install       1 Package(s)\n",
      "\n",
      "Total download size: 484 k\n",
      "Installed size: 1.8 M\n",
      "Downloading Packages:\n",
      "warning: rpmts_HdrFromFdno: Header V3 RSA/SHA1 Signature, key ID c105b9de: NOKEY\n",
      "Retrieving key from file:///etc/pki/rpm-gpg/RPM-GPG-KEY-CentOS-6\n",
      "Importing GPG key 0xC105B9DE:\n",
      " Userid : CentOS-6 Key (CentOS 6 Official Signing Key) <centos-6-key@centos.org>\n",
      " Package: centos-release-6-8.el6.centos.12.3.x86_64 (@CentOS/6.8)\n",
      " From   : /etc/pki/rpm-gpg/RPM-GPG-KEY-CentOS-6\n",
      "Running rpm_check_debug\n",
      "Running Transaction Test\n",
      "Transaction Test Succeeded\n",
      "Running Transaction\n",
      "  Installing : wget-1.12-8.el6.x86_64                                       1/1 \n",
      "install-info: No such file or directory for /usr/share/info/wget.info.gz\n",
      "  Verifying  : wget-1.12-8.el6.x86_64                                       1/1 \n",
      "\n",
      "Installed:\n",
      "  wget.x86_64 0:1.12-8.el6                                                      \n",
      "\n",
      "Complete!\n"
     ]
    }
   ],
   "source": [
    "docker exec con bash -c \"yum install wget -y\""
   ]
  },
  {
   "cell_type": "markdown",
   "metadata": {},
   "source": [
    "**And the rest of the stuff...**"
   ]
  },
  {
   "cell_type": "code",
   "execution_count": null,
   "metadata": {
    "collapsed": true
   },
   "outputs": [],
   "source": [
    "# Download + install epel\n",
    "docker exec con bash -c \"cd; wget http://dl.fedoraproject.org/pub/epel/6/x86_64/epel-release-6-8.noarch.rpm; rpm -Uvh epel-release-6-8.noarch.rpm\"\n",
    "\n",
    "# update\n",
    "docker exec con bash -c \"yum update -y\"\n",
    "\n",
    "# Install all dependencies\n",
    "docker exec con bash -c \"yum install which sudo httpd php openssh-server -y\"\n",
    "\n",
    "# The the services start to .bashrc\n",
    "docker exec con bash -c 'cd; echo \"/sbin/service httpd start\" >> .bashrc'\n",
    "docker exec con bash -c 'cd; echo \"/sbin/service openssh-server start\" >> .bashrc'"
   ]
  },
  {
   "cell_type": "markdown",
   "metadata": {},
   "source": [
    "### Check nothing else is running"
   ]
  },
  {
   "cell_type": "code",
   "execution_count": 8,
   "metadata": {
    "collapsed": false
   },
   "outputs": [
    {
     "name": "stdout",
     "output_type": "stream",
     "text": [
      "CONTAINER ID        IMAGE               COMMAND             CREATED             STATUS              PORTS               NAMES\n"
     ]
    }
   ],
   "source": [
    "docker ps"
   ]
  },
  {
   "cell_type": "markdown",
   "metadata": {},
   "source": [
    "### Check that our container ID is there"
   ]
  },
  {
   "cell_type": "code",
   "execution_count": 11,
   "metadata": {
    "collapsed": false
   },
   "outputs": [
    {
     "name": "stdout",
     "output_type": "stream",
     "text": [
      "CONTAINER ID        IMAGE               COMMAND             CREATED             STATUS                     PORTS               NAMES\n",
      "548f70d44cb2        centos:centos6      \"/bin/bash\"         12 minutes ago      Exited (0) 2 minutes ago                       reverent_pasteur\n"
     ]
    }
   ],
   "source": [
    "docker ps -a"
   ]
  },
  {
   "cell_type": "markdown",
   "metadata": {},
   "source": [
    "### Commit\n",
    "We see that our container ID is ```548f70d44cb2```, so we want to commit that.\n",
    "This will build a new container that has all the dependencies that we need, libraries, etc."
   ]
  },
  {
   "cell_type": "code",
   "execution_count": 13,
   "metadata": {
    "collapsed": false
   },
   "outputs": [
    {
     "name": "stdout",
     "output_type": "stream",
     "text": [
      "sha256:f466708d751e2812b4ea181b91aeb44ca2efc031a015dc363f5bb900a60de0d5\n"
     ]
    }
   ],
   "source": [
    "docker commit 548f70d44cb2 centos6:baseweb"
   ]
  },
  {
   "cell_type": "markdown",
   "metadata": {},
   "source": [
    "### Check the images"
   ]
  },
  {
   "cell_type": "code",
   "execution_count": 14,
   "metadata": {
    "collapsed": false
   },
   "outputs": [
    {
     "name": "stdout",
     "output_type": "stream",
     "text": [
      "REPOSITORY          TAG                 IMAGE ID            CREATED             SIZE\n",
      "centos6             baseweb             f466708d751e        35 seconds ago      373 MB\n",
      "centos              centos6             8315978ceaaa        4 months ago        195 MB\n"
     ]
    }
   ],
   "source": [
    "docker images"
   ]
  },
  {
   "cell_type": "markdown",
   "metadata": {},
   "source": [
    "### Start a container with new image\n",
    "This time we will just start a container in daemon mode, and we will send the commands one by one with the docker exec command"
   ]
  },
  {
   "cell_type": "code",
   "execution_count": 16,
   "metadata": {
    "collapsed": false
   },
   "outputs": [
    {
     "name": "stdout",
     "output_type": "stream",
     "text": [
      "cdb2b1a1a046652ec8bcf1ff4f80b0240d3a33dcf19da068d4a4d9d95507b226\n"
     ]
    }
   ],
   "source": [
    "docker run -d -i -t centos6:baseweb /bin/bash"
   ]
  },
  {
   "cell_type": "markdown",
   "metadata": {},
   "source": [
    "##### Perfect! So now we can check what it's name is to refer to it through that"
   ]
  },
  {
   "cell_type": "code",
   "execution_count": 17,
   "metadata": {
    "collapsed": false
   },
   "outputs": [
    {
     "name": "stdout",
     "output_type": "stream",
     "text": [
      "CONTAINER ID        IMAGE               COMMAND             CREATED             STATUS              PORTS               NAMES\n",
      "cdb2b1a1a046        centos6:baseweb     \"/bin/bash\"         34 seconds ago      Up 33 seconds                           dreamy_clarke\n"
     ]
    }
   ],
   "source": [
    "docker ps"
   ]
  },
  {
   "cell_type": "markdown",
   "metadata": {},
   "source": [
    "##### This container is called \"dreamy_clarke\" so we'll be able to refer to it through that name."
   ]
  },
  {
   "cell_type": "markdown",
   "metadata": {},
   "source": [
    "### Starting  a service\n",
    "We first want to check what the commands and outputs have been so far using the **docker logs**"
   ]
  },
  {
   "cell_type": "code",
   "execution_count": 20,
   "metadata": {
    "collapsed": false
   },
   "outputs": [
    {
     "name": "stdout",
     "output_type": "stream",
     "text": [
      "Starting httpd: httpd: Could not reliably determine the server's fully qualified domain name, using 172.17.0.2 for ServerName\n",
      "\u001b[60G[\u001b[0;32m  OK  \u001b[0;39m]\n",
      "openssh-server: unrecognized service\n"
     ]
    }
   ],
   "source": [
    "docker logs dreamy_clarke"
   ]
  },
  {
   "cell_type": "markdown",
   "metadata": {},
   "source": [
    "##### We can see that openssh-server is an unrecognised service!"
   ]
  },
  {
   "cell_type": "markdown",
   "metadata": {},
   "source": [
    "If we wanted to open ssh service we would run:"
   ]
  },
  {
   "cell_type": "code",
   "execution_count": 23,
   "metadata": {
    "collapsed": false
   },
   "outputs": [
    {
     "name": "stdout",
     "output_type": "stream",
     "text": [
      "Generating SSH2 RSA host key: [  OK  ]\n",
      "Generating SSH1 RSA host key: [  OK  ]\n",
      "Generating SSH2 DSA host key: [  OK  ]\n",
      "Starting sshd: [  OK  ]\n"
     ]
    }
   ],
   "source": [
    "docker exec dreamy_clarke service sshd start"
   ]
  },
  {
   "cell_type": "markdown",
   "metadata": {},
   "source": [
    "**We now exit the container to fix this error in the original container**"
   ]
  },
  {
   "cell_type": "code",
   "execution_count": 24,
   "metadata": {
    "collapsed": false
   },
   "outputs": [
    {
     "name": "stdout",
     "output_type": "stream",
     "text": [
      "dreamy_clarke\n"
     ]
    }
   ],
   "source": [
    "docker stop dreamy_clarke"
   ]
  },
  {
   "cell_type": "code",
   "execution_count": 25,
   "metadata": {
    "collapsed": false
   },
   "outputs": [
    {
     "name": "stdout",
     "output_type": "stream",
     "text": [
      "REPOSITORY          TAG                 IMAGE ID            CREATED             SIZE\n",
      "centos6             baseweb             f466708d751e        12 minutes ago      373 MB\n",
      "centos              centos6             8315978ceaaa        4 months ago        195 MB\n"
     ]
    }
   ],
   "source": [
    "docker images"
   ]
  },
  {
   "cell_type": "markdown",
   "metadata": {},
   "source": [
    "### Remove image\n",
    "We will now remove the image, but what will happen is that we'll run into a conflict"
   ]
  },
  {
   "cell_type": "code",
   "execution_count": 27,
   "metadata": {
    "collapsed": false
   },
   "outputs": [
    {
     "name": "stdout",
     "output_type": "stream",
     "text": [
      "Error response from daemon: conflict: unable to remove repository reference \"centos6:baseweb\" (must force) - container cdb2b1a1a046 is using its referenced image f466708d751e\n"
     ]
    },
    {
     "ename": "",
     "evalue": "1",
     "output_type": "error",
     "traceback": []
    }
   ],
   "source": [
    "docker rmi centos6:baseweb"
   ]
  },
  {
   "cell_type": "markdown",
   "metadata": {},
   "source": [
    "** In order to remove the image we need to first remove the container with the ID it is complaining**"
   ]
  },
  {
   "cell_type": "code",
   "execution_count": 28,
   "metadata": {
    "collapsed": false
   },
   "outputs": [
    {
     "name": "stdout",
     "output_type": "stream",
     "text": [
      "cdb2b1a1a046\n"
     ]
    }
   ],
   "source": [
    "docker rm cdb2b1a1a046"
   ]
  },
  {
   "cell_type": "code",
   "execution_count": 29,
   "metadata": {
    "collapsed": false
   },
   "outputs": [
    {
     "name": "stdout",
     "output_type": "stream",
     "text": [
      "Untagged: centos6:baseweb\n",
      "Deleted: sha256:f466708d751e2812b4ea181b91aeb44ca2efc031a015dc363f5bb900a60de0d5\n",
      "Deleted: sha256:a15c4e25591874dd8c9980c3312aa83f27a28055d90c391263bca2954314bdac\n"
     ]
    }
   ],
   "source": [
    "docker rmi centos6:baseweb"
   ]
  },
  {
   "cell_type": "markdown",
   "metadata": {},
   "source": [
    "** Done!**"
   ]
  },
  {
   "cell_type": "markdown",
   "metadata": {},
   "source": [
    "### Creating another image\n",
    "We now don't have to re-run the image to create a brand new container to install the dependencies again, as we still have the container we created previously (the one we used to commit to the baseweb image).\n",
    "\n",
    "We should re-start that container, and fix it!"
   ]
  },
  {
   "cell_type": "code",
   "execution_count": 33,
   "metadata": {
    "collapsed": false
   },
   "outputs": [
    {
     "name": "stdout",
     "output_type": "stream",
     "text": [
      "CONTAINER ID        IMAGE               COMMAND             CREATED             STATUS                      PORTS               NAMES\n",
      "548f70d44cb2        centos:centos6      \"/bin/bash\"         32 minutes ago      Exited (0) 21 minutes ago                       reverent_pasteur\n"
     ]
    }
   ],
   "source": [
    "docker ps -a"
   ]
  },
  {
   "cell_type": "markdown",
   "metadata": {},
   "source": [
    "** We restart that container with the id 548f70d44cb2**"
   ]
  },
  {
   "cell_type": "code",
   "execution_count": 36,
   "metadata": {
    "collapsed": false
   },
   "outputs": [
    {
     "name": "stdout",
     "output_type": "stream",
     "text": [
      "548f70d44cb2\n"
     ]
    }
   ],
   "source": [
    "docker start 548f70d44cb2 "
   ]
  },
  {
   "cell_type": "markdown",
   "metadata": {},
   "source": [
    "**We now go to the .bashrc file and edit the last line**"
   ]
  },
  {
   "cell_type": "code",
   "execution_count": 57,
   "metadata": {
    "collapsed": false
   },
   "outputs": [
    {
     "name": "stdout",
     "output_type": "stream",
     "text": [
      "# .bashrc\n",
      "\n",
      "# User specific aliases and functions\n",
      "\n",
      "alias rm='rm -i'\n",
      "alias cp='cp -i'\n",
      "alias mv='mv -i'\n",
      "\n",
      "# Source global definitions\n",
      "if [ -f /etc/bashrc ]; then\n",
      "\t. /etc/bashrc\n",
      "fi\n",
      "\n",
      "## Add services to start\n",
      "/sbin/service httpd start\n",
      "/sbin/service sshd start\n"
     ]
    }
   ],
   "source": [
    "# remove the last line of the .bashrc file\n",
    "docker exec 548f70d44cb2 bash -c \"cd && sed -i '$ d' .bashrc\"\n",
    "\n",
    "# Insert the correct line to run service\n",
    "docker exec 548f70d44cb2 bash -c 'cd && echo \"/sbin/service sshd start\" >> .bashrc'\n",
    "\n",
    "# Now we check the file\n",
    "docker exec 548f70d44cb2 bash -c \"cd && cat .bashrc\""
   ]
  },
  {
   "cell_type": "markdown",
   "metadata": {},
   "source": [
    "### Sorted!\n",
    "It seems that now it should be all good. So now we can stop the container, commit and we should be good."
   ]
  },
  {
   "cell_type": "code",
   "execution_count": 58,
   "metadata": {
    "collapsed": false
   },
   "outputs": [
    {
     "name": "stdout",
     "output_type": "stream",
     "text": [
      "548f70d44cb2\n"
     ]
    }
   ],
   "source": [
    "docker stop 548f70d44cb2"
   ]
  },
  {
   "cell_type": "code",
   "execution_count": 65,
   "metadata": {
    "collapsed": false
   },
   "outputs": [
    {
     "name": "stdout",
     "output_type": "stream",
     "text": [
      "sha256:34079efab3e4b83bd02553702d83d122a2d061d1d85f03d9b6a0d0ba7009af19\n"
     ]
    }
   ],
   "source": [
    "docker commit 548f70d44cb2 centos6:baseweb"
   ]
  },
  {
   "cell_type": "code",
   "execution_count": 66,
   "metadata": {
    "collapsed": false
   },
   "outputs": [
    {
     "name": "stdout",
     "output_type": "stream",
     "text": [
      "REPOSITORY          TAG                 IMAGE ID            CREATED             SIZE\n",
      "centos6             baseweb             34079efab3e4        2 seconds ago       373 MB\n",
      "centos              centos6             8315978ceaaa        4 months ago        195 MB\n"
     ]
    }
   ],
   "source": [
    "docker images"
   ]
  },
  {
   "cell_type": "code",
   "execution_count": 67,
   "metadata": {
    "collapsed": false
   },
   "outputs": [
    {
     "name": "stdout",
     "output_type": "stream",
     "text": [
      "695d1ddda23ecb2ee2aee71d944d9a57a36ca3d429f7b970d6ddc89135d71405\n"
     ]
    }
   ],
   "source": [
    "docker run -d -t -i centos6:baseweb /bin/bash"
   ]
  },
  {
   "cell_type": "code",
   "execution_count": 68,
   "metadata": {
    "collapsed": false
   },
   "outputs": [
    {
     "name": "stdout",
     "output_type": "stream",
     "text": [
      "CONTAINER ID        IMAGE               COMMAND             CREATED             STATUS              PORTS               NAMES\n",
      "695d1ddda23e        centos6:baseweb     \"/bin/bash\"         22 seconds ago      Up 20 seconds                           fervent_wright\n"
     ]
    }
   ],
   "source": [
    "docker ps"
   ]
  },
  {
   "cell_type": "code",
   "execution_count": 69,
   "metadata": {
    "collapsed": false
   },
   "outputs": [
    {
     "name": "stdout",
     "output_type": "stream",
     "text": [
      "Starting httpd: httpd: Could not reliably determine the server's fully qualified domain name, using 172.17.0.2 for ServerName\n",
      "\u001b[60G[\u001b[0;32m  OK  \u001b[0;39m]\n",
      "Generating SSH2 RSA host key: \u001b[60G[\u001b[0;32m  OK  \u001b[0;39m]\n",
      "Generating SSH1 RSA host key: \u001b[60G[\u001b[0;32m  OK  \u001b[0;39m]\n",
      "Generating SSH2 DSA host key: \u001b[60G[\u001b[0;32m  OK  \u001b[0;39m]\n",
      "Starting sshd: \u001b[60G[\u001b[0;32m  OK  \u001b[0;39m]\n"
     ]
    }
   ],
   "source": [
    "docker logs fervent_wright"
   ]
  },
  {
   "cell_type": "markdown",
   "metadata": {},
   "source": [
    "### All good!\n",
    "It seems that now all our servers are started as expected"
   ]
  },
  {
   "cell_type": "code",
   "execution_count": null,
   "metadata": {
    "collapsed": true
   },
   "outputs": [],
   "source": []
  }
 ],
 "metadata": {
  "kernelspec": {
   "display_name": "Bash",
   "language": "bash",
   "name": "bash"
  },
  "language_info": {
   "codemirror_mode": "shell",
   "file_extension": ".sh",
   "mimetype": "text/x-sh",
   "name": "bash"
  }
 },
 "nbformat": 4,
 "nbformat_minor": 2
}
